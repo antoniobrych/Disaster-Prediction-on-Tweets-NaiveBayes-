{
 "cells": [
  {
   "cell_type": "code",
   "execution_count": 1,
   "id": "955bd663",
   "metadata": {
    "execution": {
     "iopub.execute_input": "2022-11-19T16:48:47.670788Z",
     "iopub.status.busy": "2022-11-19T16:48:47.670299Z",
     "iopub.status.idle": "2022-11-19T16:48:49.627196Z",
     "shell.execute_reply": "2022-11-19T16:48:49.626206Z"
    },
    "id": "GpEM7ae2ixTf",
    "outputId": "8c98c0d7-6189-4471-c76b-16e02ca5c84c",
    "papermill": {
     "duration": 1.975968,
     "end_time": "2022-11-19T16:48:49.630274",
     "exception": false,
     "start_time": "2022-11-19T16:48:47.654306",
     "status": "completed"
    },
    "tags": []
   },
   "outputs": [],
   "source": [
    "import pandas as pd\n",
    "import matplotlib.pyplot as plt\n",
    "import seaborn as sns\n",
    "import plotly.express as px\n",
    "import warnings\n",
    "warnings.simplefilter(action='ignore', category=FutureWarning)\n"
   ]
  },
  {
   "cell_type": "markdown",
   "id": "651ba952",
   "metadata": {
    "papermill": {
     "duration": 0.014678,
     "end_time": "2022-11-19T16:48:49.657752",
     "exception": false,
     "start_time": "2022-11-19T16:48:49.643074",
     "status": "completed"
    },
    "tags": []
   },
   "source": [
    "# Questioning\n",
    "\n",
    "BERT, BI-LSTM and all those fantastic models work great! But i think we should try with this data set a simpler aproach! Using models that are easily accessible to a begginner such as Naive-Bayes."
   ]
  },
  {
   "cell_type": "markdown",
   "id": "be161dee",
   "metadata": {
    "papermill": {
     "duration": 0.012195,
     "end_time": "2022-11-19T16:48:49.682856",
     "exception": false,
     "start_time": "2022-11-19T16:48:49.670661",
     "status": "completed"
    },
    "tags": []
   },
   "source": [
    "# Importing data"
   ]
  },
  {
   "cell_type": "code",
   "execution_count": 2,
   "id": "64eb2955",
   "metadata": {
    "execution": {
     "iopub.execute_input": "2022-11-19T16:48:49.710245Z",
     "iopub.status.busy": "2022-11-19T16:48:49.709878Z",
     "iopub.status.idle": "2022-11-19T16:48:49.761161Z",
     "shell.execute_reply": "2022-11-19T16:48:49.760052Z"
    },
    "id": "nG0cJ9xCi2-S",
    "outputId": "78cd4d76-2c37-410a-d3e2-60cd7415a00d",
    "papermill": {
     "duration": 0.067478,
     "end_time": "2022-11-19T16:48:49.763306",
     "exception": false,
     "start_time": "2022-11-19T16:48:49.695828",
     "status": "completed"
    },
    "tags": []
   },
   "outputs": [
    {
     "data": {
      "text/plain": [
       "(7613, 5)"
      ]
     },
     "execution_count": 2,
     "metadata": {},
     "output_type": "execute_result"
    }
   ],
   "source": [
    "df = pd.read_csv(r\"../input/nlp-getting-started/train.csv\")\n",
    "df.shape"
   ]
  },
  {
   "cell_type": "code",
   "execution_count": 3,
   "id": "8a34c882",
   "metadata": {
    "execution": {
     "iopub.execute_input": "2022-11-19T16:48:49.790598Z",
     "iopub.status.busy": "2022-11-19T16:48:49.789968Z",
     "iopub.status.idle": "2022-11-19T16:48:49.807556Z",
     "shell.execute_reply": "2022-11-19T16:48:49.806655Z"
    },
    "id": "FxLhTXFpjjJF",
    "outputId": "ad7dd3b0-8c0c-4631-b540-f65e48ebee71",
    "papermill": {
     "duration": 0.033622,
     "end_time": "2022-11-19T16:48:49.809815",
     "exception": false,
     "start_time": "2022-11-19T16:48:49.776193",
     "status": "completed"
    },
    "tags": []
   },
   "outputs": [
    {
     "data": {
      "text/html": [
       "<div>\n",
       "<style scoped>\n",
       "    .dataframe tbody tr th:only-of-type {\n",
       "        vertical-align: middle;\n",
       "    }\n",
       "\n",
       "    .dataframe tbody tr th {\n",
       "        vertical-align: top;\n",
       "    }\n",
       "\n",
       "    .dataframe thead th {\n",
       "        text-align: right;\n",
       "    }\n",
       "</style>\n",
       "<table border=\"1\" class=\"dataframe\">\n",
       "  <thead>\n",
       "    <tr style=\"text-align: right;\">\n",
       "      <th></th>\n",
       "      <th>id</th>\n",
       "      <th>keyword</th>\n",
       "      <th>location</th>\n",
       "      <th>text</th>\n",
       "      <th>target</th>\n",
       "    </tr>\n",
       "  </thead>\n",
       "  <tbody>\n",
       "    <tr>\n",
       "      <th>6648</th>\n",
       "      <td>9524</td>\n",
       "      <td>terrorist</td>\n",
       "      <td>NaN</td>\n",
       "      <td>@BarackObama Senator John McCainÛªs Whoops Mo...</td>\n",
       "      <td>0</td>\n",
       "    </tr>\n",
       "    <tr>\n",
       "      <th>4429</th>\n",
       "      <td>6302</td>\n",
       "      <td>hostage</td>\n",
       "      <td>NaN</td>\n",
       "      <td>@susanj357 @msnbc @allinwithchris it's like wa...</td>\n",
       "      <td>0</td>\n",
       "    </tr>\n",
       "  </tbody>\n",
       "</table>\n",
       "</div>"
      ],
      "text/plain": [
       "        id    keyword location  \\\n",
       "6648  9524  terrorist      NaN   \n",
       "4429  6302    hostage      NaN   \n",
       "\n",
       "                                                   text  target  \n",
       "6648  @BarackObama Senator John McCainÛªs Whoops Mo...       0  \n",
       "4429  @susanj357 @msnbc @allinwithchris it's like wa...       0  "
      ]
     },
     "execution_count": 3,
     "metadata": {},
     "output_type": "execute_result"
    }
   ],
   "source": [
    "df.sample(2)"
   ]
  },
  {
   "cell_type": "markdown",
   "id": "ff4dc9bd",
   "metadata": {
    "papermill": {
     "duration": 0.012317,
     "end_time": "2022-11-19T16:48:49.835261",
     "exception": false,
     "start_time": "2022-11-19T16:48:49.822944",
     "status": "completed"
    },
    "tags": []
   },
   "source": [
    "# Checking label distribution"
   ]
  },
  {
   "cell_type": "code",
   "execution_count": 4,
   "id": "120d32cf",
   "metadata": {
    "execution": {
     "iopub.execute_input": "2022-11-19T16:48:49.862388Z",
     "iopub.status.busy": "2022-11-19T16:48:49.861990Z",
     "iopub.status.idle": "2022-11-19T16:48:50.140358Z",
     "shell.execute_reply": "2022-11-19T16:48:50.139320Z"
    },
    "id": "qrOVqeS0j1DC",
    "outputId": "541d13f5-39e5-4cff-8492-b579d940bd56",
    "papermill": {
     "duration": 0.294903,
     "end_time": "2022-11-19T16:48:50.142746",
     "exception": false,
     "start_time": "2022-11-19T16:48:49.847843",
     "status": "completed"
    },
    "tags": []
   },
   "outputs": [
    {
     "data": {
      "image/png": "[encoded data removed]",
      "text/plain": [
       "<Figure size 432x288 with 1 Axes>"
      ]
     },
     "metadata": {
      "needs_background": "light"
     },
     "output_type": "display_data"
    }
   ],
   "source": [
    "sns.histplot(df['target']);"
   ]
  },
  {
   "cell_type": "markdown",
   "id": "201e2fd5",
   "metadata": {
    "papermill": {
     "duration": 0.0127,
     "end_time": "2022-11-19T16:48:50.168698",
     "exception": false,
     "start_time": "2022-11-19T16:48:50.155998",
     "status": "completed"
    },
    "tags": []
   },
   "source": [
    "# Deleting unnecessary features"
   ]
  },
  {
   "cell_type": "code",
   "execution_count": 5,
   "id": "3f80ddab",
   "metadata": {
    "execution": {
     "iopub.execute_input": "2022-11-19T16:48:50.197701Z",
     "iopub.status.busy": "2022-11-19T16:48:50.196650Z",
     "iopub.status.idle": "2022-11-19T16:48:50.202750Z",
     "shell.execute_reply": "2022-11-19T16:48:50.201940Z"
    },
    "id": "FLsYIMI2j66M",
    "papermill": {
     "duration": 0.022828,
     "end_time": "2022-11-19T16:48:50.204881",
     "exception": false,
     "start_time": "2022-11-19T16:48:50.182053",
     "status": "completed"
    },
    "tags": []
   },
   "outputs": [],
   "source": [
    "df = df.drop(labels=['id','location'],axis=1)"
   ]
  },
  {
   "cell_type": "markdown",
   "id": "6d6855fc",
   "metadata": {
    "papermill": {
     "duration": 0.012727,
     "end_time": "2022-11-19T16:48:50.230663",
     "exception": false,
     "start_time": "2022-11-19T16:48:50.217936",
     "status": "completed"
    },
    "tags": []
   },
   "source": [
    "# Checking for null values (NaN)"
   ]
  },
  {
   "cell_type": "code",
   "execution_count": 6,
   "id": "1b85c543",
   "metadata": {
    "execution": {
     "iopub.execute_input": "2022-11-19T16:48:50.258175Z",
     "iopub.status.busy": "2022-11-19T16:48:50.257775Z",
     "iopub.status.idle": "2022-11-19T16:48:50.267537Z",
     "shell.execute_reply": "2022-11-19T16:48:50.266469Z"
    },
    "id": "SMPY2FJ1kSE9",
    "outputId": "9f93cdda-44a5-4429-af48-0b936f5e9eab",
    "papermill": {
     "duration": 0.026396,
     "end_time": "2022-11-19T16:48:50.269975",
     "exception": false,
     "start_time": "2022-11-19T16:48:50.243579",
     "status": "completed"
    },
    "tags": []
   },
   "outputs": [
    {
     "data": {
      "text/plain": [
       "keyword    61\n",
       "text        0\n",
       "target      0\n",
       "dtype: int64"
      ]
     },
     "execution_count": 6,
     "metadata": {},
     "output_type": "execute_result"
    }
   ],
   "source": [
    "df.isna().sum()"
   ]
  },
  {
   "cell_type": "markdown",
   "id": "1f9ce5d0",
   "metadata": {
    "papermill": {
     "duration": 0.013187,
     "end_time": "2022-11-19T16:48:50.296862",
     "exception": false,
     "start_time": "2022-11-19T16:48:50.283675",
     "status": "completed"
    },
    "tags": []
   },
   "source": [
    "# Checking for duplicated values "
   ]
  },
  {
   "cell_type": "code",
   "execution_count": 7,
   "id": "360b1c0d",
   "metadata": {
    "execution": {
     "iopub.execute_input": "2022-11-19T16:48:50.326064Z",
     "iopub.status.busy": "2022-11-19T16:48:50.324908Z",
     "iopub.status.idle": "2022-11-19T16:48:50.334553Z",
     "shell.execute_reply": "2022-11-19T16:48:50.333678Z"
    },
    "id": "45DDsxkykfwz",
    "outputId": "5c695151-cdcb-48ba-da6d-c5a8f565a8d2",
    "papermill": {
     "duration": 0.026416,
     "end_time": "2022-11-19T16:48:50.336788",
     "exception": false,
     "start_time": "2022-11-19T16:48:50.310372",
     "status": "completed"
    },
    "tags": []
   },
   "outputs": [
    {
     "data": {
      "text/plain": [
       "110"
      ]
     },
     "execution_count": 7,
     "metadata": {},
     "output_type": "execute_result"
    }
   ],
   "source": [
    " df['text'].duplicated().sum()"
   ]
  },
  {
   "cell_type": "markdown",
   "id": "0ce70bd1",
   "metadata": {
    "papermill": {
     "duration": 0.012897,
     "end_time": "2022-11-19T16:48:50.363113",
     "exception": false,
     "start_time": "2022-11-19T16:48:50.350216",
     "status": "completed"
    },
    "tags": []
   },
   "source": [
    "# Deleting duplicates"
   ]
  },
  {
   "cell_type": "code",
   "execution_count": 8,
   "id": "0494a531",
   "metadata": {
    "execution": {
     "iopub.execute_input": "2022-11-19T16:48:50.392727Z",
     "iopub.status.busy": "2022-11-19T16:48:50.391857Z",
     "iopub.status.idle": "2022-11-19T16:48:50.402273Z",
     "shell.execute_reply": "2022-11-19T16:48:50.401169Z"
    },
    "id": "RuJjMvKyk1-W",
    "papermill": {
     "duration": 0.028277,
     "end_time": "2022-11-19T16:48:50.404564",
     "exception": false,
     "start_time": "2022-11-19T16:48:50.376287",
     "status": "completed"
    },
    "tags": []
   },
   "outputs": [],
   "source": [
    "df = df.drop_duplicates(subset=['text'],keep=False)\n"
   ]
  },
  {
   "cell_type": "markdown",
   "id": "d4ba4e23",
   "metadata": {
    "papermill": {
     "duration": 0.012878,
     "end_time": "2022-11-19T16:48:50.430790",
     "exception": false,
     "start_time": "2022-11-19T16:48:50.417912",
     "status": "completed"
    },
    "tags": []
   },
   "source": [
    "# Creating a target variable for binary classification"
   ]
  },
  {
   "cell_type": "code",
   "execution_count": 9,
   "id": "97d3197b",
   "metadata": {
    "execution": {
     "iopub.execute_input": "2022-11-19T16:48:50.458768Z",
     "iopub.status.busy": "2022-11-19T16:48:50.458360Z",
     "iopub.status.idle": "2022-11-19T16:48:50.468803Z",
     "shell.execute_reply": "2022-11-19T16:48:50.467770Z"
    },
    "id": "9ZqfdoYYqZro",
    "papermill": {
     "duration": 0.027174,
     "end_time": "2022-11-19T16:48:50.471135",
     "exception": false,
     "start_time": "2022-11-19T16:48:50.443961",
     "status": "completed"
    },
    "tags": []
   },
   "outputs": [],
   "source": [
    "df = df.dropna()\n",
    "y_df = df['target']\n",
    "df = df.drop(labels=['target'],axis=1)\n"
   ]
  },
  {
   "cell_type": "markdown",
   "id": "08585072",
   "metadata": {
    "papermill": {
     "duration": 0.013169,
     "end_time": "2022-11-19T16:48:50.497686",
     "exception": false,
     "start_time": "2022-11-19T16:48:50.484517",
     "status": "completed"
    },
    "tags": []
   },
   "source": [
    "# Reseting index"
   ]
  },
  {
   "cell_type": "code",
   "execution_count": 10,
   "id": "5787fb26",
   "metadata": {
    "execution": {
     "iopub.execute_input": "2022-11-19T16:48:50.526119Z",
     "iopub.status.busy": "2022-11-19T16:48:50.525718Z",
     "iopub.status.idle": "2022-11-19T16:48:50.533059Z",
     "shell.execute_reply": "2022-11-19T16:48:50.532172Z"
    },
    "id": "3Q8YTcc_mtDY",
    "papermill": {
     "duration": 0.024327,
     "end_time": "2022-11-19T16:48:50.535250",
     "exception": false,
     "start_time": "2022-11-19T16:48:50.510923",
     "status": "completed"
    },
    "tags": []
   },
   "outputs": [],
   "source": [
    "df = df.reset_index()\n",
    "df = df.drop(labels=['index'],axis=1)"
   ]
  },
  {
   "cell_type": "markdown",
   "id": "a47e567f",
   "metadata": {
    "papermill": {
     "duration": 0.012652,
     "end_time": "2022-11-19T16:48:50.561063",
     "exception": false,
     "start_time": "2022-11-19T16:48:50.548411",
     "status": "completed"
    },
    "tags": []
   },
   "source": [
    "# Replacing odd writing in Dataset\n",
    "This step will facilitate tokenization!"
   ]
  },
  {
   "cell_type": "code",
   "execution_count": 11,
   "id": "17eb486a",
   "metadata": {
    "execution": {
     "iopub.execute_input": "2022-11-19T16:48:50.590438Z",
     "iopub.status.busy": "2022-11-19T16:48:50.589867Z",
     "iopub.status.idle": "2022-11-19T16:48:50.603880Z",
     "shell.execute_reply": "2022-11-19T16:48:50.602968Z"
    },
    "id": "CvMVjdXkrNzh",
    "outputId": "8c1a8858-73ae-48eb-ee6a-8f0a22e09466",
    "papermill": {
     "duration": 0.031249,
     "end_time": "2022-11-19T16:48:50.605986",
     "exception": false,
     "start_time": "2022-11-19T16:48:50.574737",
     "status": "completed"
    },
    "tags": []
   },
   "outputs": [
    {
     "data": {
      "text/plain": [
       "3295               explode\n",
       "4215              hijacker\n",
       "3621                  fire\n",
       "4106             hazardous\n",
       "4911      natural disaster\n",
       "2552           destruction\n",
       "1794                 crush\n",
       "2778               drought\n",
       "4164              hellfire\n",
       "4691         mass murderer\n",
       "4997            obliterate\n",
       "5463              refugees\n",
       "3073        emergency plan\n",
       "3115    emergency services\n",
       "3144              engulfed\n",
       "479              avalanche\n",
       "6943               volcano\n",
       "1129       bridge collapse\n",
       "7199               wounded\n",
       "2649            devastated\n",
       "5475              refugees\n",
       "4487             inundated\n",
       "4211              hijacker\n",
       "3172             epicentre\n",
       "6697           traumatised\n",
       "4950       nuclear reactor\n",
       "1709                 crash\n",
       "5819               screams\n",
       "1253               burning\n",
       "5085             oil spill\n",
       "3421            eyewitness\n",
       "3507            fatalities\n",
       "5573                  riot\n",
       "6424             terrorism\n",
       "4163              hellfire\n",
       "923               body bag\n",
       "3312               explode\n",
       "5961                 siren\n",
       "4888      natural disaster\n",
       "4998            obliterate\n",
       "4870              mudslide\n",
       "4668           mass murder\n",
       "5548              rescuers\n",
       "6492               thunder\n",
       "1049                  bomb\n",
       "6685           traumatised\n",
       "5335           quarantined\n",
       "3991             hailstorm\n",
       "4257             hijacking\n",
       "5020           obliterated\n",
       "Name: keyword, dtype: object"
      ]
     },
     "execution_count": 11,
     "metadata": {},
     "output_type": "execute_result"
    }
   ],
   "source": [
    "df['keyword'] = df['keyword'].str.replace('%20',' ')\n",
    "df['keyword'].sample(50)"
   ]
  },
  {
   "cell_type": "markdown",
   "id": "13797cfe",
   "metadata": {
    "papermill": {
     "duration": 0.012723,
     "end_time": "2022-11-19T16:48:50.632142",
     "exception": false,
     "start_time": "2022-11-19T16:48:50.619419",
     "status": "completed"
    },
    "tags": []
   },
   "source": [
    "# Encoding the 'keyword' Column"
   ]
  },
  {
   "cell_type": "code",
   "execution_count": 12,
   "id": "06181167",
   "metadata": {
    "execution": {
     "iopub.execute_input": "2022-11-19T16:48:50.660693Z",
     "iopub.status.busy": "2022-11-19T16:48:50.660275Z",
     "iopub.status.idle": "2022-11-19T16:48:50.676889Z",
     "shell.execute_reply": "2022-11-19T16:48:50.675775Z"
    },
    "id": "f0X0r30BuS4l",
    "papermill": {
     "duration": 0.033968,
     "end_time": "2022-11-19T16:48:50.679446",
     "exception": false,
     "start_time": "2022-11-19T16:48:50.645478",
     "status": "completed"
    },
    "tags": []
   },
   "outputs": [],
   "source": [
    "keyword_dummies = pd.get_dummies(df['keyword'])"
   ]
  },
  {
   "cell_type": "markdown",
   "id": "bac16bd3",
   "metadata": {
    "papermill": {
     "duration": 0.01305,
     "end_time": "2022-11-19T16:48:50.706034",
     "exception": false,
     "start_time": "2022-11-19T16:48:50.692984",
     "status": "completed"
    },
    "tags": []
   },
   "source": [
    "# Simple algorithm for text cleansing (Extracting the Vocabulary set!)\n",
    "\n",
    "This simple algorithm checks for weird or wrong characters in strings,\n",
    "and if a string is found, it will not enter in our vocabulary!\n",
    "\n",
    "E.g :. '3672hjdkhj' is a string that should not enter our model!"
   ]
  },
  {
   "cell_type": "code",
   "execution_count": 13,
   "id": "d521488f",
   "metadata": {
    "execution": {
     "iopub.execute_input": "2022-11-19T16:48:50.734291Z",
     "iopub.status.busy": "2022-11-19T16:48:50.733901Z",
     "iopub.status.idle": "2022-11-19T16:48:51.121943Z",
     "shell.execute_reply": "2022-11-19T16:48:51.120312Z"
    },
    "id": "FEIrMoiovQaw",
    "outputId": "277e7ce8-383b-4691-b896-53b3d27ee3ae",
    "papermill": {
     "duration": 0.405014,
     "end_time": "2022-11-19T16:48:51.124327",
     "exception": false,
     "start_time": "2022-11-19T16:48:50.719313",
     "status": "completed"
    },
    "tags": []
   },
   "outputs": [
    {
     "name": "stdout",
     "output_type": "stream",
     "text": [
      "11039\n"
     ]
    }
   ],
   "source": [
    "from sklearn.feature_extraction.text import CountVectorizer\n",
    "\n",
    "vect = CountVectorizer(stop_words='english')\n",
    "\n",
    "text_vectorizer = vect.fit_transform(df['text'])\n",
    "\n",
    "arr = vect.get_feature_names_out()\n",
    "forbidden = ['0','1','2','3','4','5','6','7','8','9','_','@','ü','ò','û','$','%','*','#','/','â','!','[',']','.',';','ç','>','å']\n",
    "stop = []\n",
    "i = -1\n",
    "for item in arr:\n",
    "  i = i+1\n",
    "  for letter in item:\n",
    "    if letter in forbidden:\n",
    "      stop.append(item)\n",
    "print(len(stop))"
   ]
  },
  {
   "cell_type": "markdown",
   "id": "731c7f60",
   "metadata": {
    "papermill": {
     "duration": 0.012996,
     "end_time": "2022-11-19T16:48:51.150971",
     "exception": false,
     "start_time": "2022-11-19T16:48:51.137975",
     "status": "completed"
    },
    "tags": []
   },
   "source": [
    "# Creating our vocabulary with set operations\n",
    "\n",
    "A set is a very simple data structure in which scikit-learn requires us to use, for vocabulary.\n",
    "\n",
    "we are removing from arr (which contains all the words), those that are unwanted (contained in the 'stop' set).\n"
   ]
  },
  {
   "cell_type": "code",
   "execution_count": 14,
   "id": "a3b90b2c",
   "metadata": {
    "execution": {
     "iopub.execute_input": "2022-11-19T16:48:51.179347Z",
     "iopub.status.busy": "2022-11-19T16:48:51.178956Z",
     "iopub.status.idle": "2022-11-19T16:48:51.193514Z",
     "shell.execute_reply": "2022-11-19T16:48:51.192388Z"
    },
    "id": "Y2J8xcp-EINB",
    "outputId": "17f18e2d-b7c8-4a6d-b631-619a9b2061c9",
    "papermill": {
     "duration": 0.031057,
     "end_time": "2022-11-19T16:48:51.195494",
     "exception": false,
     "start_time": "2022-11-19T16:48:51.164437",
     "status": "completed"
    },
    "tags": []
   },
   "outputs": [
    {
     "data": {
      "text/plain": [
       "15764"
      ]
     },
     "execution_count": 14,
     "metadata": {},
     "output_type": "execute_result"
    }
   ],
   "source": [
    "stop = set(stop)\n",
    "arr = set(arr)\n",
    "vocab = arr - stop\n",
    "len(vocab)"
   ]
  },
  {
   "cell_type": "markdown",
   "id": "4f78e842",
   "metadata": {
    "papermill": {
     "duration": 0.013692,
     "end_time": "2022-11-19T16:48:51.224016",
     "exception": false,
     "start_time": "2022-11-19T16:48:51.210324",
     "status": "completed"
    },
    "tags": []
   },
   "source": [
    "# Tokenizing our data using our vocabulary"
   ]
  },
  {
   "cell_type": "code",
   "execution_count": 15,
   "id": "9e78a065",
   "metadata": {
    "execution": {
     "iopub.execute_input": "2022-11-19T16:48:51.253332Z",
     "iopub.status.busy": "2022-11-19T16:48:51.252941Z",
     "iopub.status.idle": "2022-11-19T16:48:51.417086Z",
     "shell.execute_reply": "2022-11-19T16:48:51.415955Z"
    },
    "id": "PxTC4-g8E8oA",
    "papermill": {
     "duration": 0.182037,
     "end_time": "2022-11-19T16:48:51.419788",
     "exception": false,
     "start_time": "2022-11-19T16:48:51.237751",
     "status": "completed"
    },
    "tags": []
   },
   "outputs": [],
   "source": [
    "from sklearn.feature_extraction.text import CountVectorizer\n",
    "\n",
    "vect2 = CountVectorizer(stop_words='english',vocabulary=vocab)\n",
    "\n",
    "text_vectorizer2 = vect2.fit_transform(df['text'])\n",
    "\n",
    "arr2 = vect2.get_feature_names()"
   ]
  },
  {
   "cell_type": "markdown",
   "id": "bb882ac7",
   "metadata": {
    "papermill": {
     "duration": 0.013329,
     "end_time": "2022-11-19T16:48:51.447047",
     "exception": false,
     "start_time": "2022-11-19T16:48:51.433718",
     "status": "completed"
    },
    "tags": []
   },
   "source": [
    "# Data Frame created with 'text' column tokenization"
   ]
  },
  {
   "cell_type": "code",
   "execution_count": 16,
   "id": "9d2fcdfe",
   "metadata": {
    "execution": {
     "iopub.execute_input": "2022-11-19T16:48:51.476045Z",
     "iopub.status.busy": "2022-11-19T16:48:51.475609Z",
     "iopub.status.idle": "2022-11-19T16:48:51.660322Z",
     "shell.execute_reply": "2022-11-19T16:48:51.659028Z"
    },
    "id": "wEJmrDyQGwIt",
    "outputId": "70aecd3f-9305-41e4-afde-25bd2900370b",
    "papermill": {
     "duration": 0.201953,
     "end_time": "2022-11-19T16:48:51.662751",
     "exception": false,
     "start_time": "2022-11-19T16:48:51.460798",
     "status": "completed"
    },
    "tags": []
   },
   "outputs": [
    {
     "data": {
      "text/html": [
       "<div>\n",
       "<style scoped>\n",
       "    .dataframe tbody tr th:only-of-type {\n",
       "        vertical-align: middle;\n",
       "    }\n",
       "\n",
       "    .dataframe tbody tr th {\n",
       "        vertical-align: top;\n",
       "    }\n",
       "\n",
       "    .dataframe thead th {\n",
       "        text-align: right;\n",
       "    }\n",
       "</style>\n",
       "<table border=\"1\" class=\"dataframe\">\n",
       "  <thead>\n",
       "    <tr style=\"text-align: right;\">\n",
       "      <th></th>\n",
       "      <th>0</th>\n",
       "      <th>1</th>\n",
       "      <th>2</th>\n",
       "      <th>3</th>\n",
       "      <th>4</th>\n",
       "      <th>5</th>\n",
       "      <th>6</th>\n",
       "      <th>7</th>\n",
       "      <th>8</th>\n",
       "      <th>9</th>\n",
       "      <th>...</th>\n",
       "      <th>15754</th>\n",
       "      <th>15755</th>\n",
       "      <th>15756</th>\n",
       "      <th>15757</th>\n",
       "      <th>15758</th>\n",
       "      <th>15759</th>\n",
       "      <th>15760</th>\n",
       "      <th>15761</th>\n",
       "      <th>15762</th>\n",
       "      <th>15763</th>\n",
       "    </tr>\n",
       "  </thead>\n",
       "  <tbody>\n",
       "    <tr>\n",
       "      <th>0</th>\n",
       "      <td>0</td>\n",
       "      <td>0</td>\n",
       "      <td>0</td>\n",
       "      <td>0</td>\n",
       "      <td>0</td>\n",
       "      <td>0</td>\n",
       "      <td>0</td>\n",
       "      <td>0</td>\n",
       "      <td>0</td>\n",
       "      <td>0</td>\n",
       "      <td>...</td>\n",
       "      <td>0</td>\n",
       "      <td>0</td>\n",
       "      <td>0</td>\n",
       "      <td>0</td>\n",
       "      <td>0</td>\n",
       "      <td>0</td>\n",
       "      <td>0</td>\n",
       "      <td>0</td>\n",
       "      <td>0</td>\n",
       "      <td>0</td>\n",
       "    </tr>\n",
       "    <tr>\n",
       "      <th>1</th>\n",
       "      <td>0</td>\n",
       "      <td>0</td>\n",
       "      <td>0</td>\n",
       "      <td>0</td>\n",
       "      <td>0</td>\n",
       "      <td>0</td>\n",
       "      <td>0</td>\n",
       "      <td>0</td>\n",
       "      <td>0</td>\n",
       "      <td>0</td>\n",
       "      <td>...</td>\n",
       "      <td>0</td>\n",
       "      <td>0</td>\n",
       "      <td>0</td>\n",
       "      <td>0</td>\n",
       "      <td>0</td>\n",
       "      <td>0</td>\n",
       "      <td>0</td>\n",
       "      <td>0</td>\n",
       "      <td>0</td>\n",
       "      <td>0</td>\n",
       "    </tr>\n",
       "    <tr>\n",
       "      <th>2</th>\n",
       "      <td>0</td>\n",
       "      <td>0</td>\n",
       "      <td>0</td>\n",
       "      <td>0</td>\n",
       "      <td>0</td>\n",
       "      <td>0</td>\n",
       "      <td>0</td>\n",
       "      <td>0</td>\n",
       "      <td>0</td>\n",
       "      <td>0</td>\n",
       "      <td>...</td>\n",
       "      <td>0</td>\n",
       "      <td>0</td>\n",
       "      <td>0</td>\n",
       "      <td>0</td>\n",
       "      <td>0</td>\n",
       "      <td>0</td>\n",
       "      <td>0</td>\n",
       "      <td>0</td>\n",
       "      <td>0</td>\n",
       "      <td>0</td>\n",
       "    </tr>\n",
       "    <tr>\n",
       "      <th>3</th>\n",
       "      <td>0</td>\n",
       "      <td>0</td>\n",
       "      <td>0</td>\n",
       "      <td>0</td>\n",
       "      <td>0</td>\n",
       "      <td>0</td>\n",
       "      <td>0</td>\n",
       "      <td>0</td>\n",
       "      <td>0</td>\n",
       "      <td>0</td>\n",
       "      <td>...</td>\n",
       "      <td>0</td>\n",
       "      <td>0</td>\n",
       "      <td>0</td>\n",
       "      <td>0</td>\n",
       "      <td>0</td>\n",
       "      <td>0</td>\n",
       "      <td>0</td>\n",
       "      <td>0</td>\n",
       "      <td>0</td>\n",
       "      <td>0</td>\n",
       "    </tr>\n",
       "    <tr>\n",
       "      <th>4</th>\n",
       "      <td>0</td>\n",
       "      <td>0</td>\n",
       "      <td>0</td>\n",
       "      <td>0</td>\n",
       "      <td>0</td>\n",
       "      <td>0</td>\n",
       "      <td>0</td>\n",
       "      <td>0</td>\n",
       "      <td>0</td>\n",
       "      <td>0</td>\n",
       "      <td>...</td>\n",
       "      <td>0</td>\n",
       "      <td>0</td>\n",
       "      <td>0</td>\n",
       "      <td>0</td>\n",
       "      <td>0</td>\n",
       "      <td>0</td>\n",
       "      <td>0</td>\n",
       "      <td>0</td>\n",
       "      <td>0</td>\n",
       "      <td>0</td>\n",
       "    </tr>\n",
       "    <tr>\n",
       "      <th>...</th>\n",
       "      <td>...</td>\n",
       "      <td>...</td>\n",
       "      <td>...</td>\n",
       "      <td>...</td>\n",
       "      <td>...</td>\n",
       "      <td>...</td>\n",
       "      <td>...</td>\n",
       "      <td>...</td>\n",
       "      <td>...</td>\n",
       "      <td>...</td>\n",
       "      <td>...</td>\n",
       "      <td>...</td>\n",
       "      <td>...</td>\n",
       "      <td>...</td>\n",
       "      <td>...</td>\n",
       "      <td>...</td>\n",
       "      <td>...</td>\n",
       "      <td>...</td>\n",
       "      <td>...</td>\n",
       "      <td>...</td>\n",
       "      <td>...</td>\n",
       "    </tr>\n",
       "    <tr>\n",
       "      <th>7373</th>\n",
       "      <td>0</td>\n",
       "      <td>0</td>\n",
       "      <td>0</td>\n",
       "      <td>0</td>\n",
       "      <td>0</td>\n",
       "      <td>0</td>\n",
       "      <td>0</td>\n",
       "      <td>0</td>\n",
       "      <td>0</td>\n",
       "      <td>0</td>\n",
       "      <td>...</td>\n",
       "      <td>0</td>\n",
       "      <td>0</td>\n",
       "      <td>0</td>\n",
       "      <td>0</td>\n",
       "      <td>0</td>\n",
       "      <td>0</td>\n",
       "      <td>0</td>\n",
       "      <td>0</td>\n",
       "      <td>0</td>\n",
       "      <td>0</td>\n",
       "    </tr>\n",
       "    <tr>\n",
       "      <th>7374</th>\n",
       "      <td>0</td>\n",
       "      <td>0</td>\n",
       "      <td>0</td>\n",
       "      <td>0</td>\n",
       "      <td>0</td>\n",
       "      <td>0</td>\n",
       "      <td>0</td>\n",
       "      <td>0</td>\n",
       "      <td>0</td>\n",
       "      <td>0</td>\n",
       "      <td>...</td>\n",
       "      <td>0</td>\n",
       "      <td>0</td>\n",
       "      <td>0</td>\n",
       "      <td>0</td>\n",
       "      <td>0</td>\n",
       "      <td>0</td>\n",
       "      <td>0</td>\n",
       "      <td>0</td>\n",
       "      <td>0</td>\n",
       "      <td>0</td>\n",
       "    </tr>\n",
       "    <tr>\n",
       "      <th>7375</th>\n",
       "      <td>0</td>\n",
       "      <td>0</td>\n",
       "      <td>0</td>\n",
       "      <td>0</td>\n",
       "      <td>0</td>\n",
       "      <td>0</td>\n",
       "      <td>0</td>\n",
       "      <td>0</td>\n",
       "      <td>0</td>\n",
       "      <td>0</td>\n",
       "      <td>...</td>\n",
       "      <td>0</td>\n",
       "      <td>0</td>\n",
       "      <td>0</td>\n",
       "      <td>0</td>\n",
       "      <td>0</td>\n",
       "      <td>0</td>\n",
       "      <td>0</td>\n",
       "      <td>0</td>\n",
       "      <td>0</td>\n",
       "      <td>0</td>\n",
       "    </tr>\n",
       "    <tr>\n",
       "      <th>7376</th>\n",
       "      <td>0</td>\n",
       "      <td>0</td>\n",
       "      <td>0</td>\n",
       "      <td>0</td>\n",
       "      <td>0</td>\n",
       "      <td>0</td>\n",
       "      <td>0</td>\n",
       "      <td>0</td>\n",
       "      <td>0</td>\n",
       "      <td>0</td>\n",
       "      <td>...</td>\n",
       "      <td>0</td>\n",
       "      <td>0</td>\n",
       "      <td>0</td>\n",
       "      <td>0</td>\n",
       "      <td>0</td>\n",
       "      <td>0</td>\n",
       "      <td>0</td>\n",
       "      <td>0</td>\n",
       "      <td>0</td>\n",
       "      <td>0</td>\n",
       "    </tr>\n",
       "    <tr>\n",
       "      <th>7377</th>\n",
       "      <td>0</td>\n",
       "      <td>0</td>\n",
       "      <td>0</td>\n",
       "      <td>0</td>\n",
       "      <td>0</td>\n",
       "      <td>0</td>\n",
       "      <td>0</td>\n",
       "      <td>0</td>\n",
       "      <td>0</td>\n",
       "      <td>0</td>\n",
       "      <td>...</td>\n",
       "      <td>0</td>\n",
       "      <td>0</td>\n",
       "      <td>0</td>\n",
       "      <td>0</td>\n",
       "      <td>0</td>\n",
       "      <td>0</td>\n",
       "      <td>0</td>\n",
       "      <td>0</td>\n",
       "      <td>0</td>\n",
       "      <td>0</td>\n",
       "    </tr>\n",
       "  </tbody>\n",
       "</table>\n",
       "<p>7378 rows × 15764 columns</p>\n",
       "</div>"
      ],
      "text/plain": [
       "      0      1      2      3      4      5      6      7      8      9      \\\n",
       "0         0      0      0      0      0      0      0      0      0      0   \n",
       "1         0      0      0      0      0      0      0      0      0      0   \n",
       "2         0      0      0      0      0      0      0      0      0      0   \n",
       "3         0      0      0      0      0      0      0      0      0      0   \n",
       "4         0      0      0      0      0      0      0      0      0      0   \n",
       "...     ...    ...    ...    ...    ...    ...    ...    ...    ...    ...   \n",
       "7373      0      0      0      0      0      0      0      0      0      0   \n",
       "7374      0      0      0      0      0      0      0      0      0      0   \n",
       "7375      0      0      0      0      0      0      0      0      0      0   \n",
       "7376      0      0      0      0      0      0      0      0      0      0   \n",
       "7377      0      0      0      0      0      0      0      0      0      0   \n",
       "\n",
       "      ...  15754  15755  15756  15757  15758  15759  15760  15761  15762  \\\n",
       "0     ...      0      0      0      0      0      0      0      0      0   \n",
       "1     ...      0      0      0      0      0      0      0      0      0   \n",
       "2     ...      0      0      0      0      0      0      0      0      0   \n",
       "3     ...      0      0      0      0      0      0      0      0      0   \n",
       "4     ...      0      0      0      0      0      0      0      0      0   \n",
       "...   ...    ...    ...    ...    ...    ...    ...    ...    ...    ...   \n",
       "7373  ...      0      0      0      0      0      0      0      0      0   \n",
       "7374  ...      0      0      0      0      0      0      0      0      0   \n",
       "7375  ...      0      0      0      0      0      0      0      0      0   \n",
       "7376  ...      0      0      0      0      0      0      0      0      0   \n",
       "7377  ...      0      0      0      0      0      0      0      0      0   \n",
       "\n",
       "      15763  \n",
       "0         0  \n",
       "1         0  \n",
       "2         0  \n",
       "3         0  \n",
       "4         0  \n",
       "...     ...  \n",
       "7373      0  \n",
       "7374      0  \n",
       "7375      0  \n",
       "7376      0  \n",
       "7377      0  \n",
       "\n",
       "[7378 rows x 15764 columns]"
      ]
     },
     "execution_count": 16,
     "metadata": {},
     "output_type": "execute_result"
    }
   ],
   "source": [
    "text_df = pd.DataFrame(text_vectorizer2.toarray())\n",
    "text_df"
   ]
  },
  {
   "cell_type": "markdown",
   "id": "94ffdd95",
   "metadata": {
    "papermill": {
     "duration": 0.013945,
     "end_time": "2022-11-19T16:48:51.691450",
     "exception": false,
     "start_time": "2022-11-19T16:48:51.677505",
     "status": "completed"
    },
    "tags": []
   },
   "source": [
    "# Creating a fully pre-processed df\n",
    "\n",
    "(hence the name 'proc_df', processed_df)"
   ]
  },
  {
   "cell_type": "code",
   "execution_count": 17,
   "id": "bca71232",
   "metadata": {
    "execution": {
     "iopub.execute_input": "2022-11-19T16:48:51.721624Z",
     "iopub.status.busy": "2022-11-19T16:48:51.721170Z",
     "iopub.status.idle": "2022-11-19T16:48:54.049802Z",
     "shell.execute_reply": "2022-11-19T16:48:54.048603Z"
    },
    "id": "4ulwiVwYHIk3",
    "papermill": {
     "duration": 2.346543,
     "end_time": "2022-11-19T16:48:54.052303",
     "exception": false,
     "start_time": "2022-11-19T16:48:51.705760",
     "status": "completed"
    },
    "tags": []
   },
   "outputs": [],
   "source": [
    "proc_df = pd.concat([keyword_dummies,text_df],axis=1)"
   ]
  },
  {
   "cell_type": "code",
   "execution_count": 18,
   "id": "cbe9fdc8",
   "metadata": {
    "execution": {
     "iopub.execute_input": "2022-11-19T16:48:54.082716Z",
     "iopub.status.busy": "2022-11-19T16:48:54.082256Z",
     "iopub.status.idle": "2022-11-19T16:48:54.105882Z",
     "shell.execute_reply": "2022-11-19T16:48:54.105072Z"
    },
    "id": "-C9Lw560HV2P",
    "outputId": "decc80b1-8d35-4004-e5d7-3528e1489eb5",
    "papermill": {
     "duration": 0.041379,
     "end_time": "2022-11-19T16:48:54.108066",
     "exception": false,
     "start_time": "2022-11-19T16:48:54.066687",
     "status": "completed"
    },
    "tags": []
   },
   "outputs": [
    {
     "data": {
      "text/html": [
       "<div>\n",
       "<style scoped>\n",
       "    .dataframe tbody tr th:only-of-type {\n",
       "        vertical-align: middle;\n",
       "    }\n",
       "\n",
       "    .dataframe tbody tr th {\n",
       "        vertical-align: top;\n",
       "    }\n",
       "\n",
       "    .dataframe thead th {\n",
       "        text-align: right;\n",
       "    }\n",
       "</style>\n",
       "<table border=\"1\" class=\"dataframe\">\n",
       "  <thead>\n",
       "    <tr style=\"text-align: right;\">\n",
       "      <th></th>\n",
       "      <th>ablaze</th>\n",
       "      <th>accident</th>\n",
       "      <th>aftershock</th>\n",
       "      <th>airplane accident</th>\n",
       "      <th>ambulance</th>\n",
       "      <th>annihilated</th>\n",
       "      <th>annihilation</th>\n",
       "      <th>apocalypse</th>\n",
       "      <th>armageddon</th>\n",
       "      <th>army</th>\n",
       "      <th>...</th>\n",
       "      <th>15754</th>\n",
       "      <th>15755</th>\n",
       "      <th>15756</th>\n",
       "      <th>15757</th>\n",
       "      <th>15758</th>\n",
       "      <th>15759</th>\n",
       "      <th>15760</th>\n",
       "      <th>15761</th>\n",
       "      <th>15762</th>\n",
       "      <th>15763</th>\n",
       "    </tr>\n",
       "  </thead>\n",
       "  <tbody>\n",
       "    <tr>\n",
       "      <th>0</th>\n",
       "      <td>1</td>\n",
       "      <td>0</td>\n",
       "      <td>0</td>\n",
       "      <td>0</td>\n",
       "      <td>0</td>\n",
       "      <td>0</td>\n",
       "      <td>0</td>\n",
       "      <td>0</td>\n",
       "      <td>0</td>\n",
       "      <td>0</td>\n",
       "      <td>...</td>\n",
       "      <td>0</td>\n",
       "      <td>0</td>\n",
       "      <td>0</td>\n",
       "      <td>0</td>\n",
       "      <td>0</td>\n",
       "      <td>0</td>\n",
       "      <td>0</td>\n",
       "      <td>0</td>\n",
       "      <td>0</td>\n",
       "      <td>0</td>\n",
       "    </tr>\n",
       "    <tr>\n",
       "      <th>1</th>\n",
       "      <td>1</td>\n",
       "      <td>0</td>\n",
       "      <td>0</td>\n",
       "      <td>0</td>\n",
       "      <td>0</td>\n",
       "      <td>0</td>\n",
       "      <td>0</td>\n",
       "      <td>0</td>\n",
       "      <td>0</td>\n",
       "      <td>0</td>\n",
       "      <td>...</td>\n",
       "      <td>0</td>\n",
       "      <td>0</td>\n",
       "      <td>0</td>\n",
       "      <td>0</td>\n",
       "      <td>0</td>\n",
       "      <td>0</td>\n",
       "      <td>0</td>\n",
       "      <td>0</td>\n",
       "      <td>0</td>\n",
       "      <td>0</td>\n",
       "    </tr>\n",
       "    <tr>\n",
       "      <th>2</th>\n",
       "      <td>1</td>\n",
       "      <td>0</td>\n",
       "      <td>0</td>\n",
       "      <td>0</td>\n",
       "      <td>0</td>\n",
       "      <td>0</td>\n",
       "      <td>0</td>\n",
       "      <td>0</td>\n",
       "      <td>0</td>\n",
       "      <td>0</td>\n",
       "      <td>...</td>\n",
       "      <td>0</td>\n",
       "      <td>0</td>\n",
       "      <td>0</td>\n",
       "      <td>0</td>\n",
       "      <td>0</td>\n",
       "      <td>0</td>\n",
       "      <td>0</td>\n",
       "      <td>0</td>\n",
       "      <td>0</td>\n",
       "      <td>0</td>\n",
       "    </tr>\n",
       "    <tr>\n",
       "      <th>3</th>\n",
       "      <td>1</td>\n",
       "      <td>0</td>\n",
       "      <td>0</td>\n",
       "      <td>0</td>\n",
       "      <td>0</td>\n",
       "      <td>0</td>\n",
       "      <td>0</td>\n",
       "      <td>0</td>\n",
       "      <td>0</td>\n",
       "      <td>0</td>\n",
       "      <td>...</td>\n",
       "      <td>0</td>\n",
       "      <td>0</td>\n",
       "      <td>0</td>\n",
       "      <td>0</td>\n",
       "      <td>0</td>\n",
       "      <td>0</td>\n",
       "      <td>0</td>\n",
       "      <td>0</td>\n",
       "      <td>0</td>\n",
       "      <td>0</td>\n",
       "    </tr>\n",
       "    <tr>\n",
       "      <th>4</th>\n",
       "      <td>1</td>\n",
       "      <td>0</td>\n",
       "      <td>0</td>\n",
       "      <td>0</td>\n",
       "      <td>0</td>\n",
       "      <td>0</td>\n",
       "      <td>0</td>\n",
       "      <td>0</td>\n",
       "      <td>0</td>\n",
       "      <td>0</td>\n",
       "      <td>...</td>\n",
       "      <td>0</td>\n",
       "      <td>0</td>\n",
       "      <td>0</td>\n",
       "      <td>0</td>\n",
       "      <td>0</td>\n",
       "      <td>0</td>\n",
       "      <td>0</td>\n",
       "      <td>0</td>\n",
       "      <td>0</td>\n",
       "      <td>0</td>\n",
       "    </tr>\n",
       "    <tr>\n",
       "      <th>...</th>\n",
       "      <td>...</td>\n",
       "      <td>...</td>\n",
       "      <td>...</td>\n",
       "      <td>...</td>\n",
       "      <td>...</td>\n",
       "      <td>...</td>\n",
       "      <td>...</td>\n",
       "      <td>...</td>\n",
       "      <td>...</td>\n",
       "      <td>...</td>\n",
       "      <td>...</td>\n",
       "      <td>...</td>\n",
       "      <td>...</td>\n",
       "      <td>...</td>\n",
       "      <td>...</td>\n",
       "      <td>...</td>\n",
       "      <td>...</td>\n",
       "      <td>...</td>\n",
       "      <td>...</td>\n",
       "      <td>...</td>\n",
       "      <td>...</td>\n",
       "    </tr>\n",
       "    <tr>\n",
       "      <th>7373</th>\n",
       "      <td>0</td>\n",
       "      <td>0</td>\n",
       "      <td>0</td>\n",
       "      <td>0</td>\n",
       "      <td>0</td>\n",
       "      <td>0</td>\n",
       "      <td>0</td>\n",
       "      <td>0</td>\n",
       "      <td>0</td>\n",
       "      <td>0</td>\n",
       "      <td>...</td>\n",
       "      <td>0</td>\n",
       "      <td>0</td>\n",
       "      <td>0</td>\n",
       "      <td>0</td>\n",
       "      <td>0</td>\n",
       "      <td>0</td>\n",
       "      <td>0</td>\n",
       "      <td>0</td>\n",
       "      <td>0</td>\n",
       "      <td>0</td>\n",
       "    </tr>\n",
       "    <tr>\n",
       "      <th>7374</th>\n",
       "      <td>0</td>\n",
       "      <td>0</td>\n",
       "      <td>0</td>\n",
       "      <td>0</td>\n",
       "      <td>0</td>\n",
       "      <td>0</td>\n",
       "      <td>0</td>\n",
       "      <td>0</td>\n",
       "      <td>0</td>\n",
       "      <td>0</td>\n",
       "      <td>...</td>\n",
       "      <td>0</td>\n",
       "      <td>0</td>\n",
       "      <td>0</td>\n",
       "      <td>0</td>\n",
       "      <td>0</td>\n",
       "      <td>0</td>\n",
       "      <td>0</td>\n",
       "      <td>0</td>\n",
       "      <td>0</td>\n",
       "      <td>0</td>\n",
       "    </tr>\n",
       "    <tr>\n",
       "      <th>7375</th>\n",
       "      <td>0</td>\n",
       "      <td>0</td>\n",
       "      <td>0</td>\n",
       "      <td>0</td>\n",
       "      <td>0</td>\n",
       "      <td>0</td>\n",
       "      <td>0</td>\n",
       "      <td>0</td>\n",
       "      <td>0</td>\n",
       "      <td>0</td>\n",
       "      <td>...</td>\n",
       "      <td>0</td>\n",
       "      <td>0</td>\n",
       "      <td>0</td>\n",
       "      <td>0</td>\n",
       "      <td>0</td>\n",
       "      <td>0</td>\n",
       "      <td>0</td>\n",
       "      <td>0</td>\n",
       "      <td>0</td>\n",
       "      <td>0</td>\n",
       "    </tr>\n",
       "    <tr>\n",
       "      <th>7376</th>\n",
       "      <td>0</td>\n",
       "      <td>0</td>\n",
       "      <td>0</td>\n",
       "      <td>0</td>\n",
       "      <td>0</td>\n",
       "      <td>0</td>\n",
       "      <td>0</td>\n",
       "      <td>0</td>\n",
       "      <td>0</td>\n",
       "      <td>0</td>\n",
       "      <td>...</td>\n",
       "      <td>0</td>\n",
       "      <td>0</td>\n",
       "      <td>0</td>\n",
       "      <td>0</td>\n",
       "      <td>0</td>\n",
       "      <td>0</td>\n",
       "      <td>0</td>\n",
       "      <td>0</td>\n",
       "      <td>0</td>\n",
       "      <td>0</td>\n",
       "    </tr>\n",
       "    <tr>\n",
       "      <th>7377</th>\n",
       "      <td>0</td>\n",
       "      <td>0</td>\n",
       "      <td>0</td>\n",
       "      <td>0</td>\n",
       "      <td>0</td>\n",
       "      <td>0</td>\n",
       "      <td>0</td>\n",
       "      <td>0</td>\n",
       "      <td>0</td>\n",
       "      <td>0</td>\n",
       "      <td>...</td>\n",
       "      <td>0</td>\n",
       "      <td>0</td>\n",
       "      <td>0</td>\n",
       "      <td>0</td>\n",
       "      <td>0</td>\n",
       "      <td>0</td>\n",
       "      <td>0</td>\n",
       "      <td>0</td>\n",
       "      <td>0</td>\n",
       "      <td>0</td>\n",
       "    </tr>\n",
       "  </tbody>\n",
       "</table>\n",
       "<p>7378 rows × 15985 columns</p>\n",
       "</div>"
      ],
      "text/plain": [
       "      ablaze  accident  aftershock  airplane accident  ambulance  annihilated  \\\n",
       "0          1         0           0                  0          0            0   \n",
       "1          1         0           0                  0          0            0   \n",
       "2          1         0           0                  0          0            0   \n",
       "3          1         0           0                  0          0            0   \n",
       "4          1         0           0                  0          0            0   \n",
       "...      ...       ...         ...                ...        ...          ...   \n",
       "7373       0         0           0                  0          0            0   \n",
       "7374       0         0           0                  0          0            0   \n",
       "7375       0         0           0                  0          0            0   \n",
       "7376       0         0           0                  0          0            0   \n",
       "7377       0         0           0                  0          0            0   \n",
       "\n",
       "      annihilation  apocalypse  armageddon  army  ...  15754  15755  15756  \\\n",
       "0                0           0           0     0  ...      0      0      0   \n",
       "1                0           0           0     0  ...      0      0      0   \n",
       "2                0           0           0     0  ...      0      0      0   \n",
       "3                0           0           0     0  ...      0      0      0   \n",
       "4                0           0           0     0  ...      0      0      0   \n",
       "...            ...         ...         ...   ...  ...    ...    ...    ...   \n",
       "7373             0           0           0     0  ...      0      0      0   \n",
       "7374             0           0           0     0  ...      0      0      0   \n",
       "7375             0           0           0     0  ...      0      0      0   \n",
       "7376             0           0           0     0  ...      0      0      0   \n",
       "7377             0           0           0     0  ...      0      0      0   \n",
       "\n",
       "      15757  15758  15759  15760  15761  15762  15763  \n",
       "0         0      0      0      0      0      0      0  \n",
       "1         0      0      0      0      0      0      0  \n",
       "2         0      0      0      0      0      0      0  \n",
       "3         0      0      0      0      0      0      0  \n",
       "4         0      0      0      0      0      0      0  \n",
       "...     ...    ...    ...    ...    ...    ...    ...  \n",
       "7373      0      0      0      0      0      0      0  \n",
       "7374      0      0      0      0      0      0      0  \n",
       "7375      0      0      0      0      0      0      0  \n",
       "7376      0      0      0      0      0      0      0  \n",
       "7377      0      0      0      0      0      0      0  \n",
       "\n",
       "[7378 rows x 15985 columns]"
      ]
     },
     "execution_count": 18,
     "metadata": {},
     "output_type": "execute_result"
    }
   ],
   "source": [
    "proc_df"
   ]
  },
  {
   "cell_type": "markdown",
   "id": "c19ba60b",
   "metadata": {
    "papermill": {
     "duration": 0.014299,
     "end_time": "2022-11-19T16:48:54.137500",
     "exception": false,
     "start_time": "2022-11-19T16:48:54.123201",
     "status": "completed"
    },
    "tags": []
   },
   "source": [
    "# Splitting the data: train and test"
   ]
  },
  {
   "cell_type": "code",
   "execution_count": 19,
   "id": "eeb9f984",
   "metadata": {
    "execution": {
     "iopub.execute_input": "2022-11-19T16:48:54.168374Z",
     "iopub.status.busy": "2022-11-19T16:48:54.167933Z",
     "iopub.status.idle": "2022-11-19T16:48:55.394383Z",
     "shell.execute_reply": "2022-11-19T16:48:55.392858Z"
    },
    "id": "eGMw2t5HHeOA",
    "outputId": "3f53f473-b1f5-45e7-b05f-eab9d5f0f83d",
    "papermill": {
     "duration": 1.244554,
     "end_time": "2022-11-19T16:48:55.396811",
     "exception": false,
     "start_time": "2022-11-19T16:48:54.152257",
     "status": "completed"
    },
    "tags": []
   },
   "outputs": [
    {
     "data": {
      "text/plain": [
       "((5533, 15985), (1845, 15985), (5533,), (1845,))"
      ]
     },
     "execution_count": 19,
     "metadata": {},
     "output_type": "execute_result"
    }
   ],
   "source": [
    "from sklearn.model_selection import train_test_split\n",
    "x_train,x_test,y_train,y_test = train_test_split(proc_df,y_df)\n",
    "x_train.shape,x_test.shape,y_train.shape,y_test.shape\n"
   ]
  },
  {
   "cell_type": "markdown",
   "id": "ad2893c3",
   "metadata": {
    "papermill": {
     "duration": 0.014094,
     "end_time": "2022-11-19T16:48:55.425720",
     "exception": false,
     "start_time": "2022-11-19T16:48:55.411626",
     "status": "completed"
    },
    "tags": []
   },
   "source": [
    "# Training the model"
   ]
  },
  {
   "cell_type": "code",
   "execution_count": 20,
   "id": "083a804a",
   "metadata": {
    "execution": {
     "iopub.execute_input": "2022-11-19T16:48:55.457181Z",
     "iopub.status.busy": "2022-11-19T16:48:55.456783Z",
     "iopub.status.idle": "2022-11-19T16:48:58.367467Z",
     "shell.execute_reply": "2022-11-19T16:48:58.366294Z"
    },
    "papermill": {
     "duration": 2.929283,
     "end_time": "2022-11-19T16:48:58.370033",
     "exception": false,
     "start_time": "2022-11-19T16:48:55.440750",
     "status": "completed"
    },
    "tags": []
   },
   "outputs": [
    {
     "data": {
      "text/plain": [
       "GaussianNB(var_smoothing=0.01873817422860384)"
      ]
     },
     "execution_count": 20,
     "metadata": {},
     "output_type": "execute_result"
    }
   ],
   "source": [
    "from sklearn.naive_bayes import GaussianNB\n",
    "model = GaussianNB(var_smoothing=0.01873817422860384)\n",
    "model.fit(proc_df,y_df)"
   ]
  },
  {
   "cell_type": "markdown",
   "id": "6be31c3d",
   "metadata": {
    "papermill": {
     "duration": 0.014142,
     "end_time": "2022-11-19T16:48:58.399112",
     "exception": false,
     "start_time": "2022-11-19T16:48:58.384970",
     "status": "completed"
    },
    "tags": []
   },
   "source": [
    "# Classification report!"
   ]
  },
  {
   "cell_type": "code",
   "execution_count": 21,
   "id": "f188c97a",
   "metadata": {
    "execution": {
     "iopub.execute_input": "2022-11-19T16:48:58.429958Z",
     "iopub.status.busy": "2022-11-19T16:48:58.429537Z",
     "iopub.status.idle": "2022-11-19T16:48:59.117240Z",
     "shell.execute_reply": "2022-11-19T16:48:59.115736Z"
    },
    "id": "QJydcdR3OWtz",
    "papermill": {
     "duration": 0.706025,
     "end_time": "2022-11-19T16:48:59.119446",
     "exception": false,
     "start_time": "2022-11-19T16:48:58.413421",
     "status": "completed"
    },
    "tags": []
   },
   "outputs": [
    {
     "name": "stdout",
     "output_type": "stream",
     "text": [
      "              precision    recall  f1-score   support\n",
      "\n",
      "           0       0.84      0.92      0.88      1065\n",
      "           1       0.88      0.76      0.81       780\n",
      "\n",
      "    accuracy                           0.85      1845\n",
      "   macro avg       0.86      0.84      0.85      1845\n",
      "weighted avg       0.85      0.85      0.85      1845\n",
      "\n"
     ]
    }
   ],
   "source": [
    "from sklearn.metrics import classification_report \n",
    "y_pred = model.predict(x_test)\n",
    "print(classification_report(y_test,y_pred))"
   ]
  },
  {
   "cell_type": "markdown",
   "id": "b14a35b7",
   "metadata": {
    "papermill": {
     "duration": 0.015018,
     "end_time": "2022-11-19T16:48:59.149640",
     "exception": false,
     "start_time": "2022-11-19T16:48:59.134622",
     "status": "completed"
    },
    "tags": []
   },
   "source": [
    "# Importing test data"
   ]
  },
  {
   "cell_type": "code",
   "execution_count": 22,
   "id": "15563414",
   "metadata": {
    "execution": {
     "iopub.execute_input": "2022-11-19T16:48:59.181783Z",
     "iopub.status.busy": "2022-11-19T16:48:59.180587Z",
     "iopub.status.idle": "2022-11-19T16:48:59.208925Z",
     "shell.execute_reply": "2022-11-19T16:48:59.207862Z"
    },
    "id": "kCxeLhEfPVWO",
    "papermill": {
     "duration": 0.047155,
     "end_time": "2022-11-19T16:48:59.211545",
     "exception": false,
     "start_time": "2022-11-19T16:48:59.164390",
     "status": "completed"
    },
    "tags": []
   },
   "outputs": [],
   "source": [
    "test_df = pd.read_csv(r'../input/nlp-getting-started/test.csv')"
   ]
  },
  {
   "cell_type": "code",
   "execution_count": 23,
   "id": "9858b1af",
   "metadata": {
    "execution": {
     "iopub.execute_input": "2022-11-19T16:48:59.243167Z",
     "iopub.status.busy": "2022-11-19T16:48:59.242783Z",
     "iopub.status.idle": "2022-11-19T16:48:59.257204Z",
     "shell.execute_reply": "2022-11-19T16:48:59.256115Z"
    },
    "id": "mRtxiXu-kvw_",
    "papermill": {
     "duration": 0.032735,
     "end_time": "2022-11-19T16:48:59.259407",
     "exception": false,
     "start_time": "2022-11-19T16:48:59.226672",
     "status": "completed"
    },
    "tags": []
   },
   "outputs": [
    {
     "data": {
      "text/html": [
       "<div>\n",
       "<style scoped>\n",
       "    .dataframe tbody tr th:only-of-type {\n",
       "        vertical-align: middle;\n",
       "    }\n",
       "\n",
       "    .dataframe tbody tr th {\n",
       "        vertical-align: top;\n",
       "    }\n",
       "\n",
       "    .dataframe thead th {\n",
       "        text-align: right;\n",
       "    }\n",
       "</style>\n",
       "<table border=\"1\" class=\"dataframe\">\n",
       "  <thead>\n",
       "    <tr style=\"text-align: right;\">\n",
       "      <th></th>\n",
       "      <th>keyword</th>\n",
       "      <th>text</th>\n",
       "    </tr>\n",
       "  </thead>\n",
       "  <tbody>\n",
       "    <tr>\n",
       "      <th>0</th>\n",
       "      <td>NaN</td>\n",
       "      <td>Just happened a terrible car crash</td>\n",
       "    </tr>\n",
       "    <tr>\n",
       "      <th>1</th>\n",
       "      <td>NaN</td>\n",
       "      <td>Heard about #earthquake is different cities, s...</td>\n",
       "    </tr>\n",
       "    <tr>\n",
       "      <th>2</th>\n",
       "      <td>NaN</td>\n",
       "      <td>there is a forest fire at spot pond, geese are...</td>\n",
       "    </tr>\n",
       "    <tr>\n",
       "      <th>3</th>\n",
       "      <td>NaN</td>\n",
       "      <td>Apocalypse lighting. #Spokane #wildfires</td>\n",
       "    </tr>\n",
       "    <tr>\n",
       "      <th>4</th>\n",
       "      <td>NaN</td>\n",
       "      <td>Typhoon Soudelor kills 28 in China and Taiwan</td>\n",
       "    </tr>\n",
       "    <tr>\n",
       "      <th>...</th>\n",
       "      <td>...</td>\n",
       "      <td>...</td>\n",
       "    </tr>\n",
       "    <tr>\n",
       "      <th>3258</th>\n",
       "      <td>NaN</td>\n",
       "      <td>EARTHQUAKE SAFETY LOS ANGELES ÛÒ SAFETY FASTE...</td>\n",
       "    </tr>\n",
       "    <tr>\n",
       "      <th>3259</th>\n",
       "      <td>NaN</td>\n",
       "      <td>Storm in RI worse than last hurricane. My city...</td>\n",
       "    </tr>\n",
       "    <tr>\n",
       "      <th>3260</th>\n",
       "      <td>NaN</td>\n",
       "      <td>Green Line derailment in Chicago http://t.co/U...</td>\n",
       "    </tr>\n",
       "    <tr>\n",
       "      <th>3261</th>\n",
       "      <td>NaN</td>\n",
       "      <td>MEG issues Hazardous Weather Outlook (HWO) htt...</td>\n",
       "    </tr>\n",
       "    <tr>\n",
       "      <th>3262</th>\n",
       "      <td>NaN</td>\n",
       "      <td>#CityofCalgary has activated its Municipal Eme...</td>\n",
       "    </tr>\n",
       "  </tbody>\n",
       "</table>\n",
       "<p>3263 rows × 2 columns</p>\n",
       "</div>"
      ],
      "text/plain": [
       "     keyword                                               text\n",
       "0        NaN                 Just happened a terrible car crash\n",
       "1        NaN  Heard about #earthquake is different cities, s...\n",
       "2        NaN  there is a forest fire at spot pond, geese are...\n",
       "3        NaN           Apocalypse lighting. #Spokane #wildfires\n",
       "4        NaN      Typhoon Soudelor kills 28 in China and Taiwan\n",
       "...      ...                                                ...\n",
       "3258     NaN  EARTHQUAKE SAFETY LOS ANGELES ÛÒ SAFETY FASTE...\n",
       "3259     NaN  Storm in RI worse than last hurricane. My city...\n",
       "3260     NaN  Green Line derailment in Chicago http://t.co/U...\n",
       "3261     NaN  MEG issues Hazardous Weather Outlook (HWO) htt...\n",
       "3262     NaN  #CityofCalgary has activated its Municipal Eme...\n",
       "\n",
       "[3263 rows x 2 columns]"
      ]
     },
     "execution_count": 23,
     "metadata": {},
     "output_type": "execute_result"
    }
   ],
   "source": [
    "index = test_df['id']\n",
    "\n",
    "test_df = test_df[['keyword','text']]\n",
    "\n",
    "test_df"
   ]
  },
  {
   "cell_type": "markdown",
   "id": "12379383",
   "metadata": {
    "papermill": {
     "duration": 0.015048,
     "end_time": "2022-11-19T16:48:59.290152",
     "exception": false,
     "start_time": "2022-11-19T16:48:59.275104",
     "status": "completed"
    },
    "tags": []
   },
   "source": [
    "# Pre-processing test data"
   ]
  },
  {
   "cell_type": "code",
   "execution_count": 24,
   "id": "36ecea9e",
   "metadata": {
    "execution": {
     "iopub.execute_input": "2022-11-19T16:48:59.322498Z",
     "iopub.status.busy": "2022-11-19T16:48:59.321904Z",
     "iopub.status.idle": "2022-11-19T16:48:59.434000Z",
     "shell.execute_reply": "2022-11-19T16:48:59.433092Z"
    },
    "papermill": {
     "duration": 0.13101,
     "end_time": "2022-11-19T16:48:59.436639",
     "exception": false,
     "start_time": "2022-11-19T16:48:59.305629",
     "status": "completed"
    },
    "tags": []
   },
   "outputs": [],
   "source": [
    "from sklearn.impute import SimpleImputer\n",
    "imputer = SimpleImputer(strategy='most_frequent')\n",
    "test_df['keyword'] = imputer.fit_transform(test_df['keyword'].values.reshape(-1, 1))\n",
    "test_df['text'] = imputer.fit_transform(test_df['text'].values.reshape(-1, 1))"
   ]
  },
  {
   "cell_type": "code",
   "execution_count": 25,
   "id": "b5e8cb46",
   "metadata": {
    "execution": {
     "iopub.execute_input": "2022-11-19T16:48:59.469199Z",
     "iopub.status.busy": "2022-11-19T16:48:59.468827Z",
     "iopub.status.idle": "2022-11-19T16:48:59.478018Z",
     "shell.execute_reply": "2022-11-19T16:48:59.476923Z"
    },
    "papermill": {
     "duration": 0.028365,
     "end_time": "2022-11-19T16:48:59.480170",
     "exception": false,
     "start_time": "2022-11-19T16:48:59.451805",
     "status": "completed"
    },
    "tags": []
   },
   "outputs": [
    {
     "data": {
      "text/plain": [
       "keyword    0\n",
       "text       0\n",
       "dtype: int64"
      ]
     },
     "execution_count": 25,
     "metadata": {},
     "output_type": "execute_result"
    }
   ],
   "source": [
    "test_df.isna().sum()"
   ]
  },
  {
   "cell_type": "code",
   "execution_count": 26,
   "id": "6da7c358",
   "metadata": {
    "execution": {
     "iopub.execute_input": "2022-11-19T16:48:59.512905Z",
     "iopub.status.busy": "2022-11-19T16:48:59.512467Z",
     "iopub.status.idle": "2022-11-19T16:48:59.525211Z",
     "shell.execute_reply": "2022-11-19T16:48:59.524199Z"
    },
    "papermill": {
     "duration": 0.032029,
     "end_time": "2022-11-19T16:48:59.527506",
     "exception": false,
     "start_time": "2022-11-19T16:48:59.495477",
     "status": "completed"
    },
    "tags": []
   },
   "outputs": [
    {
     "data": {
      "text/plain": [
       "2709         stretcher\n",
       "2427           rescued\n",
       "1208       devastation\n",
       "2038       mass murder\n",
       "2504              ruin\n",
       "1882           hostage\n",
       "792            crashed\n",
       "1190        devastated\n",
       "2704         stretcher\n",
       "98         annihilated\n",
       "1210       devastation\n",
       "281       bioterrorism\n",
       "888             danger\n",
       "3090           volcano\n",
       "2598          sinkhole\n",
       "3183         windstorm\n",
       "2687             storm\n",
       "2746    suicide bomber\n",
       "110       annihilation\n",
       "2492            rubble\n",
       "2653             smoke\n",
       "807            crashed\n",
       "2371         rainstorm\n",
       "162               army\n",
       "434           body bag\n",
       "2807           survive\n",
       "569             burned\n",
       "1467           explode\n",
       "2291             panic\n",
       "1276             drown\n",
       "1954         inundated\n",
       "2894           thunder\n",
       "2810           survive\n",
       "27              ablaze\n",
       "765          collision\n",
       "381              blood\n",
       "2982            trauma\n",
       "788              crash\n",
       "2525         sandstorm\n",
       "3240          wreckage\n",
       "1587        fire truck\n",
       "2833         survivors\n",
       "746            collide\n",
       "290              blaze\n",
       "821            crushed\n",
       "2141          mudslide\n",
       "453       body bagging\n",
       "2409          refugees\n",
       "2743      suicide bomb\n",
       "1813          hellfire\n",
       "Name: keyword, dtype: object"
      ]
     },
     "execution_count": 26,
     "metadata": {},
     "output_type": "execute_result"
    }
   ],
   "source": [
    "test_df['keyword'] = test_df['keyword'].str.replace('%20',' ')\n",
    "test_df['keyword'].sample(50)"
   ]
  },
  {
   "cell_type": "code",
   "execution_count": 27,
   "id": "4bd7bf01",
   "metadata": {
    "execution": {
     "iopub.execute_input": "2022-11-19T16:48:59.560175Z",
     "iopub.status.busy": "2022-11-19T16:48:59.559391Z",
     "iopub.status.idle": "2022-11-19T16:48:59.569716Z",
     "shell.execute_reply": "2022-11-19T16:48:59.568790Z"
    },
    "papermill": {
     "duration": 0.029264,
     "end_time": "2022-11-19T16:48:59.572192",
     "exception": false,
     "start_time": "2022-11-19T16:48:59.542928",
     "status": "completed"
    },
    "tags": []
   },
   "outputs": [],
   "source": [
    "keyword_dummies_TEST = pd.get_dummies(test_df['keyword'])"
   ]
  },
  {
   "cell_type": "code",
   "execution_count": 28,
   "id": "ffb755fa",
   "metadata": {
    "execution": {
     "iopub.execute_input": "2022-11-19T16:48:59.604795Z",
     "iopub.status.busy": "2022-11-19T16:48:59.604373Z",
     "iopub.status.idle": "2022-11-19T16:48:59.626969Z",
     "shell.execute_reply": "2022-11-19T16:48:59.625997Z"
    },
    "papermill": {
     "duration": 0.041338,
     "end_time": "2022-11-19T16:48:59.629080",
     "exception": false,
     "start_time": "2022-11-19T16:48:59.587742",
     "status": "completed"
    },
    "tags": []
   },
   "outputs": [
    {
     "data": {
      "text/html": [
       "<div>\n",
       "<style scoped>\n",
       "    .dataframe tbody tr th:only-of-type {\n",
       "        vertical-align: middle;\n",
       "    }\n",
       "\n",
       "    .dataframe tbody tr th {\n",
       "        vertical-align: top;\n",
       "    }\n",
       "\n",
       "    .dataframe thead th {\n",
       "        text-align: right;\n",
       "    }\n",
       "</style>\n",
       "<table border=\"1\" class=\"dataframe\">\n",
       "  <thead>\n",
       "    <tr style=\"text-align: right;\">\n",
       "      <th></th>\n",
       "      <th>ablaze</th>\n",
       "      <th>accident</th>\n",
       "      <th>aftershock</th>\n",
       "      <th>airplane accident</th>\n",
       "      <th>ambulance</th>\n",
       "      <th>annihilated</th>\n",
       "      <th>annihilation</th>\n",
       "      <th>apocalypse</th>\n",
       "      <th>armageddon</th>\n",
       "      <th>army</th>\n",
       "      <th>...</th>\n",
       "      <th>weapons</th>\n",
       "      <th>whirlwind</th>\n",
       "      <th>wild fires</th>\n",
       "      <th>wildfire</th>\n",
       "      <th>windstorm</th>\n",
       "      <th>wounded</th>\n",
       "      <th>wounds</th>\n",
       "      <th>wreck</th>\n",
       "      <th>wreckage</th>\n",
       "      <th>wrecked</th>\n",
       "    </tr>\n",
       "  </thead>\n",
       "  <tbody>\n",
       "    <tr>\n",
       "      <th>0</th>\n",
       "      <td>0</td>\n",
       "      <td>0</td>\n",
       "      <td>0</td>\n",
       "      <td>0</td>\n",
       "      <td>0</td>\n",
       "      <td>0</td>\n",
       "      <td>0</td>\n",
       "      <td>0</td>\n",
       "      <td>0</td>\n",
       "      <td>0</td>\n",
       "      <td>...</td>\n",
       "      <td>0</td>\n",
       "      <td>0</td>\n",
       "      <td>0</td>\n",
       "      <td>0</td>\n",
       "      <td>0</td>\n",
       "      <td>0</td>\n",
       "      <td>0</td>\n",
       "      <td>0</td>\n",
       "      <td>0</td>\n",
       "      <td>0</td>\n",
       "    </tr>\n",
       "    <tr>\n",
       "      <th>1</th>\n",
       "      <td>0</td>\n",
       "      <td>0</td>\n",
       "      <td>0</td>\n",
       "      <td>0</td>\n",
       "      <td>0</td>\n",
       "      <td>0</td>\n",
       "      <td>0</td>\n",
       "      <td>0</td>\n",
       "      <td>0</td>\n",
       "      <td>0</td>\n",
       "      <td>...</td>\n",
       "      <td>0</td>\n",
       "      <td>0</td>\n",
       "      <td>0</td>\n",
       "      <td>0</td>\n",
       "      <td>0</td>\n",
       "      <td>0</td>\n",
       "      <td>0</td>\n",
       "      <td>0</td>\n",
       "      <td>0</td>\n",
       "      <td>0</td>\n",
       "    </tr>\n",
       "    <tr>\n",
       "      <th>2</th>\n",
       "      <td>0</td>\n",
       "      <td>0</td>\n",
       "      <td>0</td>\n",
       "      <td>0</td>\n",
       "      <td>0</td>\n",
       "      <td>0</td>\n",
       "      <td>0</td>\n",
       "      <td>0</td>\n",
       "      <td>0</td>\n",
       "      <td>0</td>\n",
       "      <td>...</td>\n",
       "      <td>0</td>\n",
       "      <td>0</td>\n",
       "      <td>0</td>\n",
       "      <td>0</td>\n",
       "      <td>0</td>\n",
       "      <td>0</td>\n",
       "      <td>0</td>\n",
       "      <td>0</td>\n",
       "      <td>0</td>\n",
       "      <td>0</td>\n",
       "    </tr>\n",
       "    <tr>\n",
       "      <th>3</th>\n",
       "      <td>0</td>\n",
       "      <td>0</td>\n",
       "      <td>0</td>\n",
       "      <td>0</td>\n",
       "      <td>0</td>\n",
       "      <td>0</td>\n",
       "      <td>0</td>\n",
       "      <td>0</td>\n",
       "      <td>0</td>\n",
       "      <td>0</td>\n",
       "      <td>...</td>\n",
       "      <td>0</td>\n",
       "      <td>0</td>\n",
       "      <td>0</td>\n",
       "      <td>0</td>\n",
       "      <td>0</td>\n",
       "      <td>0</td>\n",
       "      <td>0</td>\n",
       "      <td>0</td>\n",
       "      <td>0</td>\n",
       "      <td>0</td>\n",
       "    </tr>\n",
       "    <tr>\n",
       "      <th>4</th>\n",
       "      <td>0</td>\n",
       "      <td>0</td>\n",
       "      <td>0</td>\n",
       "      <td>0</td>\n",
       "      <td>0</td>\n",
       "      <td>0</td>\n",
       "      <td>0</td>\n",
       "      <td>0</td>\n",
       "      <td>0</td>\n",
       "      <td>0</td>\n",
       "      <td>...</td>\n",
       "      <td>0</td>\n",
       "      <td>0</td>\n",
       "      <td>0</td>\n",
       "      <td>0</td>\n",
       "      <td>0</td>\n",
       "      <td>0</td>\n",
       "      <td>0</td>\n",
       "      <td>0</td>\n",
       "      <td>0</td>\n",
       "      <td>0</td>\n",
       "    </tr>\n",
       "    <tr>\n",
       "      <th>...</th>\n",
       "      <td>...</td>\n",
       "      <td>...</td>\n",
       "      <td>...</td>\n",
       "      <td>...</td>\n",
       "      <td>...</td>\n",
       "      <td>...</td>\n",
       "      <td>...</td>\n",
       "      <td>...</td>\n",
       "      <td>...</td>\n",
       "      <td>...</td>\n",
       "      <td>...</td>\n",
       "      <td>...</td>\n",
       "      <td>...</td>\n",
       "      <td>...</td>\n",
       "      <td>...</td>\n",
       "      <td>...</td>\n",
       "      <td>...</td>\n",
       "      <td>...</td>\n",
       "      <td>...</td>\n",
       "      <td>...</td>\n",
       "      <td>...</td>\n",
       "    </tr>\n",
       "    <tr>\n",
       "      <th>3258</th>\n",
       "      <td>0</td>\n",
       "      <td>0</td>\n",
       "      <td>0</td>\n",
       "      <td>0</td>\n",
       "      <td>0</td>\n",
       "      <td>0</td>\n",
       "      <td>0</td>\n",
       "      <td>0</td>\n",
       "      <td>0</td>\n",
       "      <td>0</td>\n",
       "      <td>...</td>\n",
       "      <td>0</td>\n",
       "      <td>0</td>\n",
       "      <td>0</td>\n",
       "      <td>0</td>\n",
       "      <td>0</td>\n",
       "      <td>0</td>\n",
       "      <td>0</td>\n",
       "      <td>0</td>\n",
       "      <td>0</td>\n",
       "      <td>0</td>\n",
       "    </tr>\n",
       "    <tr>\n",
       "      <th>3259</th>\n",
       "      <td>0</td>\n",
       "      <td>0</td>\n",
       "      <td>0</td>\n",
       "      <td>0</td>\n",
       "      <td>0</td>\n",
       "      <td>0</td>\n",
       "      <td>0</td>\n",
       "      <td>0</td>\n",
       "      <td>0</td>\n",
       "      <td>0</td>\n",
       "      <td>...</td>\n",
       "      <td>0</td>\n",
       "      <td>0</td>\n",
       "      <td>0</td>\n",
       "      <td>0</td>\n",
       "      <td>0</td>\n",
       "      <td>0</td>\n",
       "      <td>0</td>\n",
       "      <td>0</td>\n",
       "      <td>0</td>\n",
       "      <td>0</td>\n",
       "    </tr>\n",
       "    <tr>\n",
       "      <th>3260</th>\n",
       "      <td>0</td>\n",
       "      <td>0</td>\n",
       "      <td>0</td>\n",
       "      <td>0</td>\n",
       "      <td>0</td>\n",
       "      <td>0</td>\n",
       "      <td>0</td>\n",
       "      <td>0</td>\n",
       "      <td>0</td>\n",
       "      <td>0</td>\n",
       "      <td>...</td>\n",
       "      <td>0</td>\n",
       "      <td>0</td>\n",
       "      <td>0</td>\n",
       "      <td>0</td>\n",
       "      <td>0</td>\n",
       "      <td>0</td>\n",
       "      <td>0</td>\n",
       "      <td>0</td>\n",
       "      <td>0</td>\n",
       "      <td>0</td>\n",
       "    </tr>\n",
       "    <tr>\n",
       "      <th>3261</th>\n",
       "      <td>0</td>\n",
       "      <td>0</td>\n",
       "      <td>0</td>\n",
       "      <td>0</td>\n",
       "      <td>0</td>\n",
       "      <td>0</td>\n",
       "      <td>0</td>\n",
       "      <td>0</td>\n",
       "      <td>0</td>\n",
       "      <td>0</td>\n",
       "      <td>...</td>\n",
       "      <td>0</td>\n",
       "      <td>0</td>\n",
       "      <td>0</td>\n",
       "      <td>0</td>\n",
       "      <td>0</td>\n",
       "      <td>0</td>\n",
       "      <td>0</td>\n",
       "      <td>0</td>\n",
       "      <td>0</td>\n",
       "      <td>0</td>\n",
       "    </tr>\n",
       "    <tr>\n",
       "      <th>3262</th>\n",
       "      <td>0</td>\n",
       "      <td>0</td>\n",
       "      <td>0</td>\n",
       "      <td>0</td>\n",
       "      <td>0</td>\n",
       "      <td>0</td>\n",
       "      <td>0</td>\n",
       "      <td>0</td>\n",
       "      <td>0</td>\n",
       "      <td>0</td>\n",
       "      <td>...</td>\n",
       "      <td>0</td>\n",
       "      <td>0</td>\n",
       "      <td>0</td>\n",
       "      <td>0</td>\n",
       "      <td>0</td>\n",
       "      <td>0</td>\n",
       "      <td>0</td>\n",
       "      <td>0</td>\n",
       "      <td>0</td>\n",
       "      <td>0</td>\n",
       "    </tr>\n",
       "  </tbody>\n",
       "</table>\n",
       "<p>3263 rows × 221 columns</p>\n",
       "</div>"
      ],
      "text/plain": [
       "      ablaze  accident  aftershock  airplane accident  ambulance  annihilated  \\\n",
       "0          0         0           0                  0          0            0   \n",
       "1          0         0           0                  0          0            0   \n",
       "2          0         0           0                  0          0            0   \n",
       "3          0         0           0                  0          0            0   \n",
       "4          0         0           0                  0          0            0   \n",
       "...      ...       ...         ...                ...        ...          ...   \n",
       "3258       0         0           0                  0          0            0   \n",
       "3259       0         0           0                  0          0            0   \n",
       "3260       0         0           0                  0          0            0   \n",
       "3261       0         0           0                  0          0            0   \n",
       "3262       0         0           0                  0          0            0   \n",
       "\n",
       "      annihilation  apocalypse  armageddon  army  ...  weapons  whirlwind  \\\n",
       "0                0           0           0     0  ...        0          0   \n",
       "1                0           0           0     0  ...        0          0   \n",
       "2                0           0           0     0  ...        0          0   \n",
       "3                0           0           0     0  ...        0          0   \n",
       "4                0           0           0     0  ...        0          0   \n",
       "...            ...         ...         ...   ...  ...      ...        ...   \n",
       "3258             0           0           0     0  ...        0          0   \n",
       "3259             0           0           0     0  ...        0          0   \n",
       "3260             0           0           0     0  ...        0          0   \n",
       "3261             0           0           0     0  ...        0          0   \n",
       "3262             0           0           0     0  ...        0          0   \n",
       "\n",
       "      wild fires  wildfire  windstorm  wounded  wounds  wreck  wreckage  \\\n",
       "0              0         0          0        0       0      0         0   \n",
       "1              0         0          0        0       0      0         0   \n",
       "2              0         0          0        0       0      0         0   \n",
       "3              0         0          0        0       0      0         0   \n",
       "4              0         0          0        0       0      0         0   \n",
       "...          ...       ...        ...      ...     ...    ...       ...   \n",
       "3258           0         0          0        0       0      0         0   \n",
       "3259           0         0          0        0       0      0         0   \n",
       "3260           0         0          0        0       0      0         0   \n",
       "3261           0         0          0        0       0      0         0   \n",
       "3262           0         0          0        0       0      0         0   \n",
       "\n",
       "      wrecked  \n",
       "0           0  \n",
       "1           0  \n",
       "2           0  \n",
       "3           0  \n",
       "4           0  \n",
       "...       ...  \n",
       "3258        0  \n",
       "3259        0  \n",
       "3260        0  \n",
       "3261        0  \n",
       "3262        0  \n",
       "\n",
       "[3263 rows x 221 columns]"
      ]
     },
     "execution_count": 28,
     "metadata": {},
     "output_type": "execute_result"
    }
   ],
   "source": [
    "keyword_dummies_TEST"
   ]
  },
  {
   "cell_type": "markdown",
   "id": "3d71a5c2",
   "metadata": {
    "papermill": {
     "duration": 0.015675,
     "end_time": "2022-11-19T16:48:59.660901",
     "exception": false,
     "start_time": "2022-11-19T16:48:59.645226",
     "status": "completed"
    },
    "tags": []
   },
   "source": [
    "# Tokenizing test data, extracting its own vocabulary\n",
    "\n",
    "PS... We are extracting the test data vocabulary, but we will not use it! It is just for demonstration purposes!"
   ]
  },
  {
   "cell_type": "code",
   "execution_count": 29,
   "id": "148134de",
   "metadata": {
    "execution": {
     "iopub.execute_input": "2022-11-19T16:48:59.694927Z",
     "iopub.status.busy": "2022-11-19T16:48:59.694497Z",
     "iopub.status.idle": "2022-11-19T16:48:59.841391Z",
     "shell.execute_reply": "2022-11-19T16:48:59.840268Z"
    },
    "papermill": {
     "duration": 0.166488,
     "end_time": "2022-11-19T16:48:59.843628",
     "exception": false,
     "start_time": "2022-11-19T16:48:59.677140",
     "status": "completed"
    },
    "tags": []
   },
   "outputs": [
    {
     "data": {
      "text/plain": [
       "9469"
      ]
     },
     "execution_count": 29,
     "metadata": {},
     "output_type": "execute_result"
    }
   ],
   "source": [
    "from sklearn.feature_extraction.text import CountVectorizer\n",
    "test_vect = CountVectorizer(stop_words='english')\n",
    "\n",
    "text_vectorizer = test_vect.fit_transform(test_df['text'])\n",
    "\n",
    "arrt = test_vect.get_feature_names_out()\n",
    "forbidden = ['0','1','2','3','4','5','6','7','8','9','_','@','ü','ò','û','$','%','*','#','/','â','!','[',']','.',';','ç','>','å']\n",
    "stop = []\n",
    "i = -1\n",
    "for item in arrt:\n",
    "  i = i+1\n",
    "  for letter in item:\n",
    "    if letter in forbidden:\n",
    "      stop.append(item)\n",
    "stopt = set(stop)\n",
    "arrt= set(arrt)\n",
    "vocabt = arrt - stopt\n",
    "len(vocabt)"
   ]
  },
  {
   "cell_type": "code",
   "execution_count": 30,
   "id": "2b62a6af",
   "metadata": {
    "execution": {
     "iopub.execute_input": "2022-11-19T16:48:59.878151Z",
     "iopub.status.busy": "2022-11-19T16:48:59.877711Z",
     "iopub.status.idle": "2022-11-19T16:48:59.885295Z",
     "shell.execute_reply": "2022-11-19T16:48:59.884165Z"
    },
    "papermill": {
     "duration": 0.027327,
     "end_time": "2022-11-19T16:48:59.887362",
     "exception": false,
     "start_time": "2022-11-19T16:48:59.860035",
     "status": "completed"
    },
    "tags": []
   },
   "outputs": [
    {
     "data": {
      "text/plain": [
       "(9469, 15764)"
      ]
     },
     "execution_count": 30,
     "metadata": {},
     "output_type": "execute_result"
    }
   ],
   "source": [
    "len(vocabt),len(vocab)"
   ]
  },
  {
   "cell_type": "markdown",
   "id": "49a7cdca",
   "metadata": {
    "papermill": {
     "duration": 0.01567,
     "end_time": "2022-11-19T16:48:59.919131",
     "exception": false,
     "start_time": "2022-11-19T16:48:59.903461",
     "status": "completed"
    },
    "tags": []
   },
   "source": [
    "# Tokenizing test data"
   ]
  },
  {
   "cell_type": "code",
   "execution_count": 31,
   "id": "3ebdfe01",
   "metadata": {
    "execution": {
     "iopub.execute_input": "2022-11-19T16:48:59.952490Z",
     "iopub.status.busy": "2022-11-19T16:48:59.952059Z",
     "iopub.status.idle": "2022-11-19T16:49:00.039113Z",
     "shell.execute_reply": "2022-11-19T16:49:00.037952Z"
    },
    "papermill": {
     "duration": 0.107162,
     "end_time": "2022-11-19T16:49:00.041908",
     "exception": false,
     "start_time": "2022-11-19T16:48:59.934746",
     "status": "completed"
    },
    "tags": []
   },
   "outputs": [],
   "source": [
    "from sklearn.feature_extraction.text import CountVectorizer\n",
    "test_vect2 = CountVectorizer(stop_words='english',vocabulary=vocab)\n",
    "test_text_vectorizer2 = test_vect2.fit_transform(test_df['text'])"
   ]
  },
  {
   "cell_type": "code",
   "execution_count": 32,
   "id": "6568b9b0",
   "metadata": {
    "execution": {
     "iopub.execute_input": "2022-11-19T16:49:00.076754Z",
     "iopub.status.busy": "2022-11-19T16:49:00.075974Z",
     "iopub.status.idle": "2022-11-19T16:49:00.161886Z",
     "shell.execute_reply": "2022-11-19T16:49:00.160676Z"
    },
    "papermill": {
     "duration": 0.10625,
     "end_time": "2022-11-19T16:49:00.164388",
     "exception": false,
     "start_time": "2022-11-19T16:49:00.058138",
     "status": "completed"
    },
    "tags": []
   },
   "outputs": [
    {
     "data": {
      "text/html": [
       "<div>\n",
       "<style scoped>\n",
       "    .dataframe tbody tr th:only-of-type {\n",
       "        vertical-align: middle;\n",
       "    }\n",
       "\n",
       "    .dataframe tbody tr th {\n",
       "        vertical-align: top;\n",
       "    }\n",
       "\n",
       "    .dataframe thead th {\n",
       "        text-align: right;\n",
       "    }\n",
       "</style>\n",
       "<table border=\"1\" class=\"dataframe\">\n",
       "  <thead>\n",
       "    <tr style=\"text-align: right;\">\n",
       "      <th></th>\n",
       "      <th>0</th>\n",
       "      <th>1</th>\n",
       "      <th>2</th>\n",
       "      <th>3</th>\n",
       "      <th>4</th>\n",
       "      <th>5</th>\n",
       "      <th>6</th>\n",
       "      <th>7</th>\n",
       "      <th>8</th>\n",
       "      <th>9</th>\n",
       "      <th>...</th>\n",
       "      <th>15754</th>\n",
       "      <th>15755</th>\n",
       "      <th>15756</th>\n",
       "      <th>15757</th>\n",
       "      <th>15758</th>\n",
       "      <th>15759</th>\n",
       "      <th>15760</th>\n",
       "      <th>15761</th>\n",
       "      <th>15762</th>\n",
       "      <th>15763</th>\n",
       "    </tr>\n",
       "  </thead>\n",
       "  <tbody>\n",
       "    <tr>\n",
       "      <th>0</th>\n",
       "      <td>0</td>\n",
       "      <td>0</td>\n",
       "      <td>0</td>\n",
       "      <td>0</td>\n",
       "      <td>0</td>\n",
       "      <td>0</td>\n",
       "      <td>0</td>\n",
       "      <td>0</td>\n",
       "      <td>0</td>\n",
       "      <td>0</td>\n",
       "      <td>...</td>\n",
       "      <td>0</td>\n",
       "      <td>0</td>\n",
       "      <td>0</td>\n",
       "      <td>0</td>\n",
       "      <td>0</td>\n",
       "      <td>0</td>\n",
       "      <td>0</td>\n",
       "      <td>0</td>\n",
       "      <td>0</td>\n",
       "      <td>0</td>\n",
       "    </tr>\n",
       "    <tr>\n",
       "      <th>1</th>\n",
       "      <td>0</td>\n",
       "      <td>0</td>\n",
       "      <td>0</td>\n",
       "      <td>0</td>\n",
       "      <td>0</td>\n",
       "      <td>0</td>\n",
       "      <td>0</td>\n",
       "      <td>0</td>\n",
       "      <td>0</td>\n",
       "      <td>0</td>\n",
       "      <td>...</td>\n",
       "      <td>0</td>\n",
       "      <td>0</td>\n",
       "      <td>0</td>\n",
       "      <td>0</td>\n",
       "      <td>0</td>\n",
       "      <td>0</td>\n",
       "      <td>0</td>\n",
       "      <td>0</td>\n",
       "      <td>0</td>\n",
       "      <td>0</td>\n",
       "    </tr>\n",
       "    <tr>\n",
       "      <th>2</th>\n",
       "      <td>0</td>\n",
       "      <td>0</td>\n",
       "      <td>0</td>\n",
       "      <td>0</td>\n",
       "      <td>0</td>\n",
       "      <td>0</td>\n",
       "      <td>0</td>\n",
       "      <td>0</td>\n",
       "      <td>0</td>\n",
       "      <td>0</td>\n",
       "      <td>...</td>\n",
       "      <td>0</td>\n",
       "      <td>0</td>\n",
       "      <td>0</td>\n",
       "      <td>0</td>\n",
       "      <td>0</td>\n",
       "      <td>0</td>\n",
       "      <td>0</td>\n",
       "      <td>0</td>\n",
       "      <td>0</td>\n",
       "      <td>0</td>\n",
       "    </tr>\n",
       "    <tr>\n",
       "      <th>3</th>\n",
       "      <td>0</td>\n",
       "      <td>0</td>\n",
       "      <td>0</td>\n",
       "      <td>0</td>\n",
       "      <td>0</td>\n",
       "      <td>0</td>\n",
       "      <td>0</td>\n",
       "      <td>0</td>\n",
       "      <td>0</td>\n",
       "      <td>0</td>\n",
       "      <td>...</td>\n",
       "      <td>0</td>\n",
       "      <td>0</td>\n",
       "      <td>0</td>\n",
       "      <td>0</td>\n",
       "      <td>0</td>\n",
       "      <td>0</td>\n",
       "      <td>0</td>\n",
       "      <td>0</td>\n",
       "      <td>0</td>\n",
       "      <td>0</td>\n",
       "    </tr>\n",
       "    <tr>\n",
       "      <th>4</th>\n",
       "      <td>0</td>\n",
       "      <td>0</td>\n",
       "      <td>0</td>\n",
       "      <td>0</td>\n",
       "      <td>0</td>\n",
       "      <td>0</td>\n",
       "      <td>0</td>\n",
       "      <td>0</td>\n",
       "      <td>0</td>\n",
       "      <td>0</td>\n",
       "      <td>...</td>\n",
       "      <td>0</td>\n",
       "      <td>0</td>\n",
       "      <td>0</td>\n",
       "      <td>0</td>\n",
       "      <td>0</td>\n",
       "      <td>0</td>\n",
       "      <td>0</td>\n",
       "      <td>0</td>\n",
       "      <td>0</td>\n",
       "      <td>0</td>\n",
       "    </tr>\n",
       "    <tr>\n",
       "      <th>...</th>\n",
       "      <td>...</td>\n",
       "      <td>...</td>\n",
       "      <td>...</td>\n",
       "      <td>...</td>\n",
       "      <td>...</td>\n",
       "      <td>...</td>\n",
       "      <td>...</td>\n",
       "      <td>...</td>\n",
       "      <td>...</td>\n",
       "      <td>...</td>\n",
       "      <td>...</td>\n",
       "      <td>...</td>\n",
       "      <td>...</td>\n",
       "      <td>...</td>\n",
       "      <td>...</td>\n",
       "      <td>...</td>\n",
       "      <td>...</td>\n",
       "      <td>...</td>\n",
       "      <td>...</td>\n",
       "      <td>...</td>\n",
       "      <td>...</td>\n",
       "    </tr>\n",
       "    <tr>\n",
       "      <th>3258</th>\n",
       "      <td>0</td>\n",
       "      <td>0</td>\n",
       "      <td>0</td>\n",
       "      <td>0</td>\n",
       "      <td>0</td>\n",
       "      <td>0</td>\n",
       "      <td>0</td>\n",
       "      <td>0</td>\n",
       "      <td>0</td>\n",
       "      <td>0</td>\n",
       "      <td>...</td>\n",
       "      <td>0</td>\n",
       "      <td>0</td>\n",
       "      <td>0</td>\n",
       "      <td>0</td>\n",
       "      <td>0</td>\n",
       "      <td>0</td>\n",
       "      <td>0</td>\n",
       "      <td>0</td>\n",
       "      <td>0</td>\n",
       "      <td>0</td>\n",
       "    </tr>\n",
       "    <tr>\n",
       "      <th>3259</th>\n",
       "      <td>0</td>\n",
       "      <td>0</td>\n",
       "      <td>0</td>\n",
       "      <td>0</td>\n",
       "      <td>0</td>\n",
       "      <td>0</td>\n",
       "      <td>0</td>\n",
       "      <td>0</td>\n",
       "      <td>0</td>\n",
       "      <td>0</td>\n",
       "      <td>...</td>\n",
       "      <td>0</td>\n",
       "      <td>0</td>\n",
       "      <td>0</td>\n",
       "      <td>0</td>\n",
       "      <td>0</td>\n",
       "      <td>0</td>\n",
       "      <td>0</td>\n",
       "      <td>0</td>\n",
       "      <td>0</td>\n",
       "      <td>0</td>\n",
       "    </tr>\n",
       "    <tr>\n",
       "      <th>3260</th>\n",
       "      <td>0</td>\n",
       "      <td>0</td>\n",
       "      <td>0</td>\n",
       "      <td>0</td>\n",
       "      <td>0</td>\n",
       "      <td>0</td>\n",
       "      <td>0</td>\n",
       "      <td>0</td>\n",
       "      <td>0</td>\n",
       "      <td>0</td>\n",
       "      <td>...</td>\n",
       "      <td>0</td>\n",
       "      <td>0</td>\n",
       "      <td>0</td>\n",
       "      <td>0</td>\n",
       "      <td>0</td>\n",
       "      <td>0</td>\n",
       "      <td>0</td>\n",
       "      <td>0</td>\n",
       "      <td>0</td>\n",
       "      <td>0</td>\n",
       "    </tr>\n",
       "    <tr>\n",
       "      <th>3261</th>\n",
       "      <td>0</td>\n",
       "      <td>0</td>\n",
       "      <td>0</td>\n",
       "      <td>0</td>\n",
       "      <td>0</td>\n",
       "      <td>0</td>\n",
       "      <td>0</td>\n",
       "      <td>0</td>\n",
       "      <td>0</td>\n",
       "      <td>0</td>\n",
       "      <td>...</td>\n",
       "      <td>0</td>\n",
       "      <td>0</td>\n",
       "      <td>0</td>\n",
       "      <td>0</td>\n",
       "      <td>0</td>\n",
       "      <td>0</td>\n",
       "      <td>0</td>\n",
       "      <td>0</td>\n",
       "      <td>0</td>\n",
       "      <td>0</td>\n",
       "    </tr>\n",
       "    <tr>\n",
       "      <th>3262</th>\n",
       "      <td>0</td>\n",
       "      <td>0</td>\n",
       "      <td>0</td>\n",
       "      <td>0</td>\n",
       "      <td>0</td>\n",
       "      <td>0</td>\n",
       "      <td>0</td>\n",
       "      <td>0</td>\n",
       "      <td>0</td>\n",
       "      <td>0</td>\n",
       "      <td>...</td>\n",
       "      <td>0</td>\n",
       "      <td>0</td>\n",
       "      <td>0</td>\n",
       "      <td>0</td>\n",
       "      <td>0</td>\n",
       "      <td>0</td>\n",
       "      <td>0</td>\n",
       "      <td>0</td>\n",
       "      <td>0</td>\n",
       "      <td>0</td>\n",
       "    </tr>\n",
       "  </tbody>\n",
       "</table>\n",
       "<p>3263 rows × 15764 columns</p>\n",
       "</div>"
      ],
      "text/plain": [
       "      0      1      2      3      4      5      6      7      8      9      \\\n",
       "0         0      0      0      0      0      0      0      0      0      0   \n",
       "1         0      0      0      0      0      0      0      0      0      0   \n",
       "2         0      0      0      0      0      0      0      0      0      0   \n",
       "3         0      0      0      0      0      0      0      0      0      0   \n",
       "4         0      0      0      0      0      0      0      0      0      0   \n",
       "...     ...    ...    ...    ...    ...    ...    ...    ...    ...    ...   \n",
       "3258      0      0      0      0      0      0      0      0      0      0   \n",
       "3259      0      0      0      0      0      0      0      0      0      0   \n",
       "3260      0      0      0      0      0      0      0      0      0      0   \n",
       "3261      0      0      0      0      0      0      0      0      0      0   \n",
       "3262      0      0      0      0      0      0      0      0      0      0   \n",
       "\n",
       "      ...  15754  15755  15756  15757  15758  15759  15760  15761  15762  \\\n",
       "0     ...      0      0      0      0      0      0      0      0      0   \n",
       "1     ...      0      0      0      0      0      0      0      0      0   \n",
       "2     ...      0      0      0      0      0      0      0      0      0   \n",
       "3     ...      0      0      0      0      0      0      0      0      0   \n",
       "4     ...      0      0      0      0      0      0      0      0      0   \n",
       "...   ...    ...    ...    ...    ...    ...    ...    ...    ...    ...   \n",
       "3258  ...      0      0      0      0      0      0      0      0      0   \n",
       "3259  ...      0      0      0      0      0      0      0      0      0   \n",
       "3260  ...      0      0      0      0      0      0      0      0      0   \n",
       "3261  ...      0      0      0      0      0      0      0      0      0   \n",
       "3262  ...      0      0      0      0      0      0      0      0      0   \n",
       "\n",
       "      15763  \n",
       "0         0  \n",
       "1         0  \n",
       "2         0  \n",
       "3         0  \n",
       "4         0  \n",
       "...     ...  \n",
       "3258      0  \n",
       "3259      0  \n",
       "3260      0  \n",
       "3261      0  \n",
       "3262      0  \n",
       "\n",
       "[3263 rows x 15764 columns]"
      ]
     },
     "execution_count": 32,
     "metadata": {},
     "output_type": "execute_result"
    }
   ],
   "source": [
    "text_df_TEST = pd.DataFrame(test_text_vectorizer2.toarray())\n",
    "text_df_TEST"
   ]
  },
  {
   "cell_type": "code",
   "execution_count": 33,
   "id": "757e4aed",
   "metadata": {
    "execution": {
     "iopub.execute_input": "2022-11-19T16:49:00.200301Z",
     "iopub.status.busy": "2022-11-19T16:49:00.199515Z",
     "iopub.status.idle": "2022-11-19T16:49:01.029235Z",
     "shell.execute_reply": "2022-11-19T16:49:01.028075Z"
    },
    "papermill": {
     "duration": 0.850596,
     "end_time": "2022-11-19T16:49:01.031917",
     "exception": false,
     "start_time": "2022-11-19T16:49:00.181321",
     "status": "completed"
    },
    "tags": []
   },
   "outputs": [],
   "source": [
    "proc_df_TEST = pd.concat([keyword_dummies_TEST,text_df_TEST],axis=1)\n"
   ]
  },
  {
   "cell_type": "markdown",
   "id": "16a61df1",
   "metadata": {
    "papermill": {
     "duration": 0.016539,
     "end_time": "2022-11-19T16:49:01.065130",
     "exception": false,
     "start_time": "2022-11-19T16:49:01.048591",
     "status": "completed"
    },
    "tags": []
   },
   "source": [
    "# Fully pre-processed test DataFrame"
   ]
  },
  {
   "cell_type": "code",
   "execution_count": 34,
   "id": "2c0b65ea",
   "metadata": {
    "execution": {
     "iopub.execute_input": "2022-11-19T16:49:01.099797Z",
     "iopub.status.busy": "2022-11-19T16:49:01.099368Z",
     "iopub.status.idle": "2022-11-19T16:49:01.122105Z",
     "shell.execute_reply": "2022-11-19T16:49:01.120998Z"
    },
    "papermill": {
     "duration": 0.042949,
     "end_time": "2022-11-19T16:49:01.124566",
     "exception": false,
     "start_time": "2022-11-19T16:49:01.081617",
     "status": "completed"
    },
    "tags": []
   },
   "outputs": [
    {
     "data": {
      "text/html": [
       "<div>\n",
       "<style scoped>\n",
       "    .dataframe tbody tr th:only-of-type {\n",
       "        vertical-align: middle;\n",
       "    }\n",
       "\n",
       "    .dataframe tbody tr th {\n",
       "        vertical-align: top;\n",
       "    }\n",
       "\n",
       "    .dataframe thead th {\n",
       "        text-align: right;\n",
       "    }\n",
       "</style>\n",
       "<table border=\"1\" class=\"dataframe\">\n",
       "  <thead>\n",
       "    <tr style=\"text-align: right;\">\n",
       "      <th></th>\n",
       "      <th>ablaze</th>\n",
       "      <th>accident</th>\n",
       "      <th>aftershock</th>\n",
       "      <th>airplane accident</th>\n",
       "      <th>ambulance</th>\n",
       "      <th>annihilated</th>\n",
       "      <th>annihilation</th>\n",
       "      <th>apocalypse</th>\n",
       "      <th>armageddon</th>\n",
       "      <th>army</th>\n",
       "      <th>...</th>\n",
       "      <th>15754</th>\n",
       "      <th>15755</th>\n",
       "      <th>15756</th>\n",
       "      <th>15757</th>\n",
       "      <th>15758</th>\n",
       "      <th>15759</th>\n",
       "      <th>15760</th>\n",
       "      <th>15761</th>\n",
       "      <th>15762</th>\n",
       "      <th>15763</th>\n",
       "    </tr>\n",
       "  </thead>\n",
       "  <tbody>\n",
       "    <tr>\n",
       "      <th>0</th>\n",
       "      <td>0</td>\n",
       "      <td>0</td>\n",
       "      <td>0</td>\n",
       "      <td>0</td>\n",
       "      <td>0</td>\n",
       "      <td>0</td>\n",
       "      <td>0</td>\n",
       "      <td>0</td>\n",
       "      <td>0</td>\n",
       "      <td>0</td>\n",
       "      <td>...</td>\n",
       "      <td>0</td>\n",
       "      <td>0</td>\n",
       "      <td>0</td>\n",
       "      <td>0</td>\n",
       "      <td>0</td>\n",
       "      <td>0</td>\n",
       "      <td>0</td>\n",
       "      <td>0</td>\n",
       "      <td>0</td>\n",
       "      <td>0</td>\n",
       "    </tr>\n",
       "    <tr>\n",
       "      <th>1</th>\n",
       "      <td>0</td>\n",
       "      <td>0</td>\n",
       "      <td>0</td>\n",
       "      <td>0</td>\n",
       "      <td>0</td>\n",
       "      <td>0</td>\n",
       "      <td>0</td>\n",
       "      <td>0</td>\n",
       "      <td>0</td>\n",
       "      <td>0</td>\n",
       "      <td>...</td>\n",
       "      <td>0</td>\n",
       "      <td>0</td>\n",
       "      <td>0</td>\n",
       "      <td>0</td>\n",
       "      <td>0</td>\n",
       "      <td>0</td>\n",
       "      <td>0</td>\n",
       "      <td>0</td>\n",
       "      <td>0</td>\n",
       "      <td>0</td>\n",
       "    </tr>\n",
       "    <tr>\n",
       "      <th>2</th>\n",
       "      <td>0</td>\n",
       "      <td>0</td>\n",
       "      <td>0</td>\n",
       "      <td>0</td>\n",
       "      <td>0</td>\n",
       "      <td>0</td>\n",
       "      <td>0</td>\n",
       "      <td>0</td>\n",
       "      <td>0</td>\n",
       "      <td>0</td>\n",
       "      <td>...</td>\n",
       "      <td>0</td>\n",
       "      <td>0</td>\n",
       "      <td>0</td>\n",
       "      <td>0</td>\n",
       "      <td>0</td>\n",
       "      <td>0</td>\n",
       "      <td>0</td>\n",
       "      <td>0</td>\n",
       "      <td>0</td>\n",
       "      <td>0</td>\n",
       "    </tr>\n",
       "    <tr>\n",
       "      <th>3</th>\n",
       "      <td>0</td>\n",
       "      <td>0</td>\n",
       "      <td>0</td>\n",
       "      <td>0</td>\n",
       "      <td>0</td>\n",
       "      <td>0</td>\n",
       "      <td>0</td>\n",
       "      <td>0</td>\n",
       "      <td>0</td>\n",
       "      <td>0</td>\n",
       "      <td>...</td>\n",
       "      <td>0</td>\n",
       "      <td>0</td>\n",
       "      <td>0</td>\n",
       "      <td>0</td>\n",
       "      <td>0</td>\n",
       "      <td>0</td>\n",
       "      <td>0</td>\n",
       "      <td>0</td>\n",
       "      <td>0</td>\n",
       "      <td>0</td>\n",
       "    </tr>\n",
       "    <tr>\n",
       "      <th>4</th>\n",
       "      <td>0</td>\n",
       "      <td>0</td>\n",
       "      <td>0</td>\n",
       "      <td>0</td>\n",
       "      <td>0</td>\n",
       "      <td>0</td>\n",
       "      <td>0</td>\n",
       "      <td>0</td>\n",
       "      <td>0</td>\n",
       "      <td>0</td>\n",
       "      <td>...</td>\n",
       "      <td>0</td>\n",
       "      <td>0</td>\n",
       "      <td>0</td>\n",
       "      <td>0</td>\n",
       "      <td>0</td>\n",
       "      <td>0</td>\n",
       "      <td>0</td>\n",
       "      <td>0</td>\n",
       "      <td>0</td>\n",
       "      <td>0</td>\n",
       "    </tr>\n",
       "    <tr>\n",
       "      <th>...</th>\n",
       "      <td>...</td>\n",
       "      <td>...</td>\n",
       "      <td>...</td>\n",
       "      <td>...</td>\n",
       "      <td>...</td>\n",
       "      <td>...</td>\n",
       "      <td>...</td>\n",
       "      <td>...</td>\n",
       "      <td>...</td>\n",
       "      <td>...</td>\n",
       "      <td>...</td>\n",
       "      <td>...</td>\n",
       "      <td>...</td>\n",
       "      <td>...</td>\n",
       "      <td>...</td>\n",
       "      <td>...</td>\n",
       "      <td>...</td>\n",
       "      <td>...</td>\n",
       "      <td>...</td>\n",
       "      <td>...</td>\n",
       "      <td>...</td>\n",
       "    </tr>\n",
       "    <tr>\n",
       "      <th>3258</th>\n",
       "      <td>0</td>\n",
       "      <td>0</td>\n",
       "      <td>0</td>\n",
       "      <td>0</td>\n",
       "      <td>0</td>\n",
       "      <td>0</td>\n",
       "      <td>0</td>\n",
       "      <td>0</td>\n",
       "      <td>0</td>\n",
       "      <td>0</td>\n",
       "      <td>...</td>\n",
       "      <td>0</td>\n",
       "      <td>0</td>\n",
       "      <td>0</td>\n",
       "      <td>0</td>\n",
       "      <td>0</td>\n",
       "      <td>0</td>\n",
       "      <td>0</td>\n",
       "      <td>0</td>\n",
       "      <td>0</td>\n",
       "      <td>0</td>\n",
       "    </tr>\n",
       "    <tr>\n",
       "      <th>3259</th>\n",
       "      <td>0</td>\n",
       "      <td>0</td>\n",
       "      <td>0</td>\n",
       "      <td>0</td>\n",
       "      <td>0</td>\n",
       "      <td>0</td>\n",
       "      <td>0</td>\n",
       "      <td>0</td>\n",
       "      <td>0</td>\n",
       "      <td>0</td>\n",
       "      <td>...</td>\n",
       "      <td>0</td>\n",
       "      <td>0</td>\n",
       "      <td>0</td>\n",
       "      <td>0</td>\n",
       "      <td>0</td>\n",
       "      <td>0</td>\n",
       "      <td>0</td>\n",
       "      <td>0</td>\n",
       "      <td>0</td>\n",
       "      <td>0</td>\n",
       "    </tr>\n",
       "    <tr>\n",
       "      <th>3260</th>\n",
       "      <td>0</td>\n",
       "      <td>0</td>\n",
       "      <td>0</td>\n",
       "      <td>0</td>\n",
       "      <td>0</td>\n",
       "      <td>0</td>\n",
       "      <td>0</td>\n",
       "      <td>0</td>\n",
       "      <td>0</td>\n",
       "      <td>0</td>\n",
       "      <td>...</td>\n",
       "      <td>0</td>\n",
       "      <td>0</td>\n",
       "      <td>0</td>\n",
       "      <td>0</td>\n",
       "      <td>0</td>\n",
       "      <td>0</td>\n",
       "      <td>0</td>\n",
       "      <td>0</td>\n",
       "      <td>0</td>\n",
       "      <td>0</td>\n",
       "    </tr>\n",
       "    <tr>\n",
       "      <th>3261</th>\n",
       "      <td>0</td>\n",
       "      <td>0</td>\n",
       "      <td>0</td>\n",
       "      <td>0</td>\n",
       "      <td>0</td>\n",
       "      <td>0</td>\n",
       "      <td>0</td>\n",
       "      <td>0</td>\n",
       "      <td>0</td>\n",
       "      <td>0</td>\n",
       "      <td>...</td>\n",
       "      <td>0</td>\n",
       "      <td>0</td>\n",
       "      <td>0</td>\n",
       "      <td>0</td>\n",
       "      <td>0</td>\n",
       "      <td>0</td>\n",
       "      <td>0</td>\n",
       "      <td>0</td>\n",
       "      <td>0</td>\n",
       "      <td>0</td>\n",
       "    </tr>\n",
       "    <tr>\n",
       "      <th>3262</th>\n",
       "      <td>0</td>\n",
       "      <td>0</td>\n",
       "      <td>0</td>\n",
       "      <td>0</td>\n",
       "      <td>0</td>\n",
       "      <td>0</td>\n",
       "      <td>0</td>\n",
       "      <td>0</td>\n",
       "      <td>0</td>\n",
       "      <td>0</td>\n",
       "      <td>...</td>\n",
       "      <td>0</td>\n",
       "      <td>0</td>\n",
       "      <td>0</td>\n",
       "      <td>0</td>\n",
       "      <td>0</td>\n",
       "      <td>0</td>\n",
       "      <td>0</td>\n",
       "      <td>0</td>\n",
       "      <td>0</td>\n",
       "      <td>0</td>\n",
       "    </tr>\n",
       "  </tbody>\n",
       "</table>\n",
       "<p>3263 rows × 15985 columns</p>\n",
       "</div>"
      ],
      "text/plain": [
       "      ablaze  accident  aftershock  airplane accident  ambulance  annihilated  \\\n",
       "0          0         0           0                  0          0            0   \n",
       "1          0         0           0                  0          0            0   \n",
       "2          0         0           0                  0          0            0   \n",
       "3          0         0           0                  0          0            0   \n",
       "4          0         0           0                  0          0            0   \n",
       "...      ...       ...         ...                ...        ...          ...   \n",
       "3258       0         0           0                  0          0            0   \n",
       "3259       0         0           0                  0          0            0   \n",
       "3260       0         0           0                  0          0            0   \n",
       "3261       0         0           0                  0          0            0   \n",
       "3262       0         0           0                  0          0            0   \n",
       "\n",
       "      annihilation  apocalypse  armageddon  army  ...  15754  15755  15756  \\\n",
       "0                0           0           0     0  ...      0      0      0   \n",
       "1                0           0           0     0  ...      0      0      0   \n",
       "2                0           0           0     0  ...      0      0      0   \n",
       "3                0           0           0     0  ...      0      0      0   \n",
       "4                0           0           0     0  ...      0      0      0   \n",
       "...            ...         ...         ...   ...  ...    ...    ...    ...   \n",
       "3258             0           0           0     0  ...      0      0      0   \n",
       "3259             0           0           0     0  ...      0      0      0   \n",
       "3260             0           0           0     0  ...      0      0      0   \n",
       "3261             0           0           0     0  ...      0      0      0   \n",
       "3262             0           0           0     0  ...      0      0      0   \n",
       "\n",
       "      15757  15758  15759  15760  15761  15762  15763  \n",
       "0         0      0      0      0      0      0      0  \n",
       "1         0      0      0      0      0      0      0  \n",
       "2         0      0      0      0      0      0      0  \n",
       "3         0      0      0      0      0      0      0  \n",
       "4         0      0      0      0      0      0      0  \n",
       "...     ...    ...    ...    ...    ...    ...    ...  \n",
       "3258      0      0      0      0      0      0      0  \n",
       "3259      0      0      0      0      0      0      0  \n",
       "3260      0      0      0      0      0      0      0  \n",
       "3261      0      0      0      0      0      0      0  \n",
       "3262      0      0      0      0      0      0      0  \n",
       "\n",
       "[3263 rows x 15985 columns]"
      ]
     },
     "execution_count": 34,
     "metadata": {},
     "output_type": "execute_result"
    }
   ],
   "source": [
    "proc_df_TEST"
   ]
  },
  {
   "cell_type": "code",
   "execution_count": 35,
   "id": "65354f56",
   "metadata": {
    "execution": {
     "iopub.execute_input": "2022-11-19T16:49:01.161693Z",
     "iopub.status.busy": "2022-11-19T16:49:01.161085Z",
     "iopub.status.idle": "2022-11-19T16:49:04.057650Z",
     "shell.execute_reply": "2022-11-19T16:49:04.056493Z"
    },
    "papermill": {
     "duration": 2.917081,
     "end_time": "2022-11-19T16:49:04.059991",
     "exception": false,
     "start_time": "2022-11-19T16:49:01.142910",
     "status": "completed"
    },
    "tags": []
   },
   "outputs": [
    {
     "data": {
      "text/plain": [
       "GaussianNB(var_smoothing=0.01873817422860384)"
      ]
     },
     "execution_count": 35,
     "metadata": {},
     "output_type": "execute_result"
    }
   ],
   "source": [
    "model.fit(proc_df,y_df)"
   ]
  },
  {
   "cell_type": "code",
   "execution_count": 36,
   "id": "547826c1",
   "metadata": {
    "execution": {
     "iopub.execute_input": "2022-11-19T16:49:04.095751Z",
     "iopub.status.busy": "2022-11-19T16:49:04.095326Z",
     "iopub.status.idle": "2022-11-19T16:49:05.210863Z",
     "shell.execute_reply": "2022-11-19T16:49:05.209816Z"
    },
    "papermill": {
     "duration": 1.136819,
     "end_time": "2022-11-19T16:49:05.213792",
     "exception": false,
     "start_time": "2022-11-19T16:49:04.076973",
     "status": "completed"
    },
    "tags": []
   },
   "outputs": [],
   "source": [
    "y_pred_submiss = model.predict(proc_df_TEST)"
   ]
  },
  {
   "cell_type": "markdown",
   "id": "cd46c602",
   "metadata": {
    "papermill": {
     "duration": 0.016575,
     "end_time": "2022-11-19T16:49:05.247712",
     "exception": false,
     "start_time": "2022-11-19T16:49:05.231137",
     "status": "completed"
    },
    "tags": []
   },
   "source": [
    "# Creating submission DataFrame"
   ]
  },
  {
   "cell_type": "code",
   "execution_count": 37,
   "id": "77f0bd58",
   "metadata": {
    "execution": {
     "iopub.execute_input": "2022-11-19T16:49:05.282876Z",
     "iopub.status.busy": "2022-11-19T16:49:05.282448Z",
     "iopub.status.idle": "2022-11-19T16:49:05.289887Z",
     "shell.execute_reply": "2022-11-19T16:49:05.288866Z"
    },
    "papermill": {
     "duration": 0.027388,
     "end_time": "2022-11-19T16:49:05.291893",
     "exception": false,
     "start_time": "2022-11-19T16:49:05.264505",
     "status": "completed"
    },
    "tags": []
   },
   "outputs": [],
   "source": [
    "final_df = pd.DataFrame()\n",
    "\n",
    "final_df['id'] = index\n",
    "final_df['target'] = y_pred_submiss"
   ]
  },
  {
   "cell_type": "code",
   "execution_count": 38,
   "id": "9f2ce29e",
   "metadata": {
    "execution": {
     "iopub.execute_input": "2022-11-19T16:49:05.328179Z",
     "iopub.status.busy": "2022-11-19T16:49:05.327045Z",
     "iopub.status.idle": "2022-11-19T16:49:05.337397Z",
     "shell.execute_reply": "2022-11-19T16:49:05.336267Z"
    },
    "papermill": {
     "duration": 0.031196,
     "end_time": "2022-11-19T16:49:05.339695",
     "exception": false,
     "start_time": "2022-11-19T16:49:05.308499",
     "status": "completed"
    },
    "tags": []
   },
   "outputs": [
    {
     "data": {
      "text/plain": [
       "0    2146\n",
       "1    1117\n",
       "Name: target, dtype: int64"
      ]
     },
     "execution_count": 38,
     "metadata": {},
     "output_type": "execute_result"
    }
   ],
   "source": [
    "final_df\n",
    "final_df['target'].value_counts()\n"
   ]
  },
  {
   "cell_type": "markdown",
   "id": "c9f5d911",
   "metadata": {
    "papermill": {
     "duration": 0.017003,
     "end_time": "2022-11-19T16:49:05.373985",
     "exception": false,
     "start_time": "2022-11-19T16:49:05.356982",
     "status": "completed"
    },
    "tags": []
   },
   "source": [
    "# Submitting!"
   ]
  },
  {
   "cell_type": "code",
   "execution_count": 39,
   "id": "c6a78a04",
   "metadata": {
    "execution": {
     "iopub.execute_input": "2022-11-19T16:49:05.410276Z",
     "iopub.status.busy": "2022-11-19T16:49:05.409898Z",
     "iopub.status.idle": "2022-11-19T16:49:05.420893Z",
     "shell.execute_reply": "2022-11-19T16:49:05.419413Z"
    },
    "papermill": {
     "duration": 0.031548,
     "end_time": "2022-11-19T16:49:05.423403",
     "exception": false,
     "start_time": "2022-11-19T16:49:05.391855",
     "status": "completed"
    },
    "tags": []
   },
   "outputs": [],
   "source": [
    "final_df.to_csv('submission.csv',index = False)\n"
   ]
  }
 ],
 "metadata": {
  "kernelspec": {
   "display_name": "Python 3",
   "language": "python",
   "name": "python3"
  },
  "language_info": {
   "codemirror_mode": {
    "name": "ipython",
    "version": 3
   },
   "file_extension": ".py",
   "mimetype": "text/x-python",
   "name": "python",
   "nbconvert_exporter": "python",
   "pygments_lexer": "ipython3",
   "version": "3.7.12"
  },
  "papermill": {
   "default_parameters": {},
   "duration": 28.058498,
   "end_time": "2022-11-19T16:49:06.363731",
   "environment_variables": {},
   "exception": null,
   "input_path": "__notebook__.ipynb",
   "output_path": "__notebook__.ipynb",
   "parameters": {},
   "start_time": "2022-11-19T16:48:38.305233",
   "version": "2.3.4"
  }
 },
 "nbformat": 4,
 "nbformat_minor": 5
}
